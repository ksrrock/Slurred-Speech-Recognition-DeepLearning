{
  "cells": [
    {
      "cell_type": "code",
      "source": [
        "pip install torchaudio"
      ],
      "outputs": [
        {
          "output_type": "stream",
          "name": "stdout",
          "text": "Requirement already satisfied: torchaudio in /anaconda/envs/azureml_py36/lib/python3.6/site-packages (0.10.0)\nRequirement already satisfied: torch==1.10.0 in /anaconda/envs/azureml_py36/lib/python3.6/site-packages (from torchaudio) (1.10.0)\nRequirement already satisfied: dataclasses; python_version < \"3.7\" in /anaconda/envs/azureml_py36/lib/python3.6/site-packages (from torch==1.10.0->torchaudio) (0.8)\nRequirement already satisfied: typing-extensions in /anaconda/envs/azureml_py36/lib/python3.6/site-packages (from torch==1.10.0->torchaudio) (3.7.4.3)\nNote: you may need to restart the kernel to use updated packages.\n"
        }
      ],
      "execution_count": 1,
      "metadata": {
        "colab": {
          "base_uri": "https://localhost:8080/"
        },
        "id": "6BukkGwnQ81U",
        "outputId": "1fec22c6-4aa0-4a8c-d5c8-4ad0b2099fd9",
        "gather": {
          "logged": 1636836520920
        }
      }
    },
    {
      "cell_type": "markdown",
      "source": [
        "## Importing all neccessary libraries"
      ],
      "metadata": {
        "id": "JKVGDRB0fW_Q"
      }
    },
    {
      "cell_type": "code",
      "source": [
        "import warnings\n",
        "warnings. filterwarnings(\"ignore\")\n",
        "import os\n",
        "import torch\n",
        "import torch.nn as nn\n",
        "import torch.utils.data as data\n",
        "import torch.optim as optim\n",
        "import torch.nn.functional as F\n",
        "import torchaudio\n",
        "from torchaudio import transforms as tfs\n",
        "import numpy as np\n",
        "import pandas as pd \n",
        "from torch.nn import Sequential as sq\n",
        "from torch.nn import Linear as lnr\n",
        "from torch import argmax as agm\n",
        "from torch.nn import Module as ml\n"
      ],
      "outputs": [],
      "execution_count": 2,
      "metadata": {
        "id": "kvuzLADtfVwn",
        "gather": {
          "logged": 1636836521813
        }
      }
    },
    {
      "cell_type": "markdown",
      "source": [
        "## Evaluation Metrics implementation (WER and CER)"
      ],
      "metadata": {
        "id": "bhdCAHRHfaR1"
      }
    },
    {
      "cell_type": "code",
      "source": [
        "\n",
        "def avg_wer(wer_scores, combined_ref_len):\n",
        "    return float(sum(wer_scores)) / float(combined_ref_len)\n",
        "\n",
        "\n",
        "def _levenshtein_distance(ref, hyp):\n",
        "\n",
        "    m = len(ref)\n",
        "    n = len(hyp)\n",
        "\n",
        "    # special case\n",
        "    if ref == hyp:\n",
        "        return 0\n",
        "    if m == 0:\n",
        "        return n\n",
        "    if n == 0:\n",
        "        return m\n",
        "\n",
        "    if m < n:\n",
        "        ref, hyp = hyp, ref\n",
        "        m, n = n, m\n",
        "\n",
        "    # use O(min(m, n)) space\n",
        "    distance = np.zeros((2, n + 1), dtype=np.int32)\n",
        "\n",
        "    # initialize distance matrix\n",
        "    for j in range(0,n + 1):\n",
        "        distance[0][j] = j\n",
        "\n",
        "    # calculate levenshtein distance\n",
        "    for i in range(1, m + 1):\n",
        "        prev_row_idx = (i - 1) % 2\n",
        "        cur_row_idx = i % 2\n",
        "        distance[cur_row_idx][0] = i\n",
        "        for j in range(1, n + 1):\n",
        "            if ref[i - 1] == hyp[j - 1]:\n",
        "                distance[cur_row_idx][j] = distance[prev_row_idx][j - 1]\n",
        "            else:\n",
        "                s_num = distance[prev_row_idx][j - 1] + 1\n",
        "                i_num = distance[cur_row_idx][j - 1] + 1\n",
        "                d_num = distance[prev_row_idx][j] + 1\n",
        "                distance[cur_row_idx][j] = min(s_num, i_num, d_num)\n",
        "\n",
        "    return distance[m % 2][n]\n",
        "\n",
        "\n",
        "def word_errors(reference, hypothesis, ignore_case=False, delimiter=' '):\n",
        "    if ignore_case == True:\n",
        "        reference = reference.lower()\n",
        "        hypothesis = hypothesis.lower()\n",
        "\n",
        "    ref_words = reference.split(delimiter)\n",
        "    hyp_words = hypothesis.split(delimiter)\n",
        "\n",
        "    edit_distance = _levenshtein_distance(ref_words, hyp_words)\n",
        "    return float(edit_distance), len(ref_words)\n",
        "\n",
        "\n",
        "def char_errors(reference, hypothesis, ignore_case=False, remove_space=False):\n",
        "    if ignore_case == True:\n",
        "        reference = reference.lower()\n",
        "        hypothesis = hypothesis.lower()\n",
        "\n",
        "    join_char = ' '\n",
        "    if remove_space == True:\n",
        "        join_char = ''\n",
        "\n",
        "    reference = join_char.join(filter(None, reference.split(' ')))\n",
        "    hypothesis = join_char.join(filter(None, hypothesis.split(' ')))\n",
        "\n",
        "    edit_distance = _levenshtein_distance(reference, hypothesis)\n",
        "    return float(edit_distance), len(reference)\n",
        "\n",
        "\n",
        "def wer(reference, hypothesis, ignore_case=False, delimiter=' '):\n",
        "  \n",
        "    edit_distance, ref_len = word_errors(reference, hypothesis, ignore_case,\n",
        "                                         delimiter)\n",
        "\n",
        "    if ref_len == 0:\n",
        "        raise ValueError(\"Reference's word number should be greater than 0.\")\n",
        "\n",
        "    wer = float(edit_distance) / ref_len\n",
        "    return wer\n",
        "\n",
        "\n",
        "def cer(reference, hypothesis, ignore_case=False, remove_space=False):\n",
        " \n",
        "    edit_distance, ref_len = char_errors(reference, hypothesis, ignore_case,\n",
        "                                         remove_space)\n",
        "\n",
        "    if ref_len == 0:\n",
        "        raise ValueError(\"Length of reference should be greater than 0.\")\n",
        "\n",
        "    cer = float(edit_distance) / ref_len\n",
        "    return cer\n",
        "\n",
        "class TextTransform:\n",
        "    def __init__(self):\n",
        "        self.char_map={\"'\": 0, '': 1, 'a': 2, 'b': 3, 'c': 4, 'd': 5, 'e': 6, 'f': 7, 'g': 8, 'h': 9, 'i': 10, 'j': 11, 'k': 12, 'l': 13, 'm': 14, 'n': 15, 'o': 16, 'p': 17, 'q': 18, 'r': 19, 's': 20, 't': 21, 'u': 22, 'v': 23, 'w': 24, 'x': 25, 'y': 26, 'z': 27}\n",
        "        self.index_map={0: \"'\", 1: ' ', 2: 'a', 3: 'b', 4: 'c', 5: 'd', 6: 'e', 7: 'f', 8: 'g', 9: 'h', 10: 'i', 11: 'j', 12: 'k', 13: 'l', 14: 'm', 15: 'n', 16: 'o', 17: 'p', 18: 'q', 19: 'r', 20: 's', 21: 't', 22: 'u', 23: 'v', 24: 'w', 25: 'x', 26: 'y', 27: 'z'}\n",
        "        \n",
        "    def text_to_int(self, text):\n",
        "        \"\"\" Use a character map and convert text to an integer sequence \"\"\"\n",
        "        int_sequence = []\n",
        "        for c in text:\n",
        "            if c == ' ':\n",
        "                ch = self.char_map['']\n",
        "            else:\n",
        "                ch = self.char_map[c]\n",
        "            int_sequence.append(ch)\n",
        "        return int_sequence\n",
        "\n",
        "    \n",
        "    def int_to_text(self, labels):\n",
        "        \"\"\" Use a character map and convert integer labels to an text sequence \"\"\"\n",
        "        string = []\n",
        "        for i in labels:\n",
        "            string.append(self.index_map[i])\n",
        "        return ''.join(string).replace('', ' ')\n",
        "\n",
        "train_audio_transforms = nn.Sequential(\n",
        "    torchaudio.transforms.MelSpectrogram(sample_rate=16000, n_mels=128),\n",
        "    torchaudio.transforms.FrequencyMasking(freq_mask_param=30),\n",
        "    torchaudio.transforms.TimeMasking(time_mask_param=100)\n",
        ")\n",
        "\n",
        "valid_audio_transforms = torchaudio.transforms.MelSpectrogram()\n",
        "\n",
        "text_transform = TextTransform()\n",
        "\n",
        "def data_processing(data, data_type=\"train\"):\n",
        "    spectrograms = []\n",
        "    labels = []\n",
        "    input_lengths = []\n",
        "    label_lengths = []\n",
        "    for (waveform, _, utterance, _, _, _) in data:\n",
        "        if data_type == 'train':\n",
        "            spec = train_audio_transforms(waveform).squeeze(0).transpose(0, 1)\n",
        "        elif data_type == 'valid':\n",
        "            spec = valid_audio_transforms(waveform).squeeze(0).transpose(0, 1)\n",
        "        else:\n",
        "            raise Exception('data_type should be train or valid')\n",
        "        spectrograms.append(spec)\n",
        "        label = torch.Tensor(text_transform.text_to_int(utterance.lower()))\n",
        "        labels.append(label)\n",
        "        input_lengths.append(spec.shape[0]//2)\n",
        "        label_lengths.append(len(label))\n",
        "\n",
        "    spectrograms = nn.utils.rnn.pad_sequence(spectrograms, batch_first=True).unsqueeze(1).transpose(2, 3)\n",
        "    labels = nn.utils.rnn.pad_sequence(labels, batch_first=True)\n",
        "\n",
        "    return spectrograms, labels, input_lengths, label_lengths\n",
        "\n",
        "\n",
        "def GreedyDecoder(output, labels, label_lengths, blank_label=28, collapse_repeated=True):\n",
        "\targ_maxes = torch.argmax(output, dim=2)\n",
        "\tdecodes = []\n",
        "\ttargets = []\n",
        "\tfor i, args in enumerate(arg_maxes):\n",
        "\t\tdecode = []\n",
        "\t\ttargets.append(text_transform.int_to_text(labels[i][:label_lengths[i]].tolist()))\n",
        "\t\tfor j, index in enumerate(args):\n",
        "\t\t\tif index != blank_label:\n",
        "\t\t\t\tif collapse_repeated and j != 0 and index == args[j -1]:\n",
        "\t\t\t\t\tcontinue\n",
        "\t\t\t\tdecode.append(index.item())\n",
        "\t\tdecodes.append(text_transform.int_to_text(decode))\n",
        "\treturn decodes, targets"
      ],
      "outputs": [],
      "execution_count": 3,
      "metadata": {
        "id": "N94pVVHDfeVE",
        "gather": {
          "logged": 1636836522038
        }
      }
    },
    {
      "cell_type": "markdown",
      "source": [
        "## The NVIDIA System Management Interface (management and monitoring of NVIDIA GPU devices)"
      ],
      "metadata": {
        "id": "S03454e2nQ9p"
      }
    },
    {
      "cell_type": "code",
      "source": [
        "!nvidia-smi"
      ],
      "outputs": [
        {
          "output_type": "stream",
          "name": "stdout",
          "text": "Sat Nov 13 20:48:42 2021       \r\n+-----------------------------------------------------------------------------+\r\n| NVIDIA-SMI 465.19.01    Driver Version: 465.19.01    CUDA Version: 11.3     |\r\n|-------------------------------+----------------------+----------------------+\r\n| GPU  Name        Persistence-M| Bus-Id        Disp.A | Volatile Uncorr. ECC |\r\n| Fan  Temp  Perf  Pwr:Usage/Cap|         Memory-Usage | GPU-Util  Compute M. |\r\n|                               |                      |               MIG M. |\r\n|===============================+======================+======================|\r\n|   0  NVIDIA Tesla K80    On   | 00000001:00:00.0 Off |                    0 |\r\n| N/A   50C    P8    28W / 149W |      0MiB / 11441MiB |      0%      Default |\r\n|                               |                      |                  N/A |\r\n+-------------------------------+----------------------+----------------------+\r\n                                                                               \r\n+-----------------------------------------------------------------------------+\r\n| Processes:                                                                  |\r\n|  GPU   GI   CI        PID   Type   Process name                  GPU Memory |\r\n|        ID   ID                                                   Usage      |\r\n|=============================================================================|\r\n|  No running processes found                                                 |\r\n+-----------------------------------------------------------------------------+\r\n"
        }
      ],
      "execution_count": 4,
      "metadata": {
        "colab": {
          "base_uri": "https://localhost:8080/"
        },
        "id": "lrzOZ5BgX8Ps",
        "outputId": "57d79640-edaa-4660-b8d4-36c4c4129bb0"
      }
    },
    {
      "cell_type": "markdown",
      "source": [
        "# **CNN layer**"
      ],
      "metadata": {
        "id": "QM0mA41WneNT"
      }
    },
    {
      "cell_type": "code",
      "source": [
        "class CNNLayerNorm(nn.Module):\n",
        "    def __init__(self, n_feats):\n",
        "        super(CNNLayerNorm, self).__init__()\n",
        "        self.layer_norm = nn.LayerNorm(n_feats)\n",
        "\n",
        "    def forward(self, x):\n",
        "        x = x.transpose(2, 3).contiguous() \n",
        "        x = self.layer_norm(x)\n",
        "        return x.transpose(2, 3).contiguous() \n",
        "\n",
        "\n",
        "class ResidualCNN(nn.Module):\n",
        "\n",
        "    def __init__(self, in_channels, out_channels, kernel, stride, dropout, n_feats):\n",
        "        super(ResidualCNN, self).__init__()\n",
        "\n",
        "        self.cnn1 = nn.Conv2d(in_channels, out_channels, kernel, stride, padding=kernel//2)\n",
        "        self.cnn2 = nn.Conv2d(out_channels, out_channels, kernel, stride, padding=kernel//2)\n",
        "        self.dropout1 = nn.Dropout(dropout)\n",
        "        self.dropout2 = nn.Dropout(dropout)\n",
        "        self.layer_norm1 = CNNLayerNorm(n_feats)\n",
        "        self.layer_norm2 = CNNLayerNorm(n_feats)\n",
        "\n",
        "    def forward(self, x):\n",
        "        residual = x \n",
        "        x = self.layer_norm1(x)\n",
        "        x = F.gelu(x)\n",
        "        x = self.dropout1(x)\n",
        "        x = self.cnn1(x)\n",
        "        x = self.layer_norm2(x)\n",
        "        x = F.gelu(x)\n",
        "        x = self.dropout2(x)\n",
        "        x = self.cnn2(x)\n",
        "        x += residual\n",
        "        return x \n",
        "\n",
        "\n"
      ],
      "outputs": [],
      "execution_count": 5,
      "metadata": {
        "id": "vpObb3vXX_El",
        "gather": {
          "logged": 1636836522629
        }
      }
    },
    {
      "cell_type": "markdown",
      "source": [
        "# **Gated Recurrent Unit layer**"
      ],
      "metadata": {
        "id": "FUGjv3ounj3_"
      }
    },
    {
      "cell_type": "code",
      "source": [
        "class BidirectionalGRU(nn.Module):\n",
        "\n",
        "    def __init__(self, rnn_dim, hidden_size, dropout, batch_first):\n",
        "        super(BidirectionalGRU, self).__init__()\n",
        "\n",
        "        self.BiGRU = nn.GRU(\n",
        "            input_size=rnn_dim, hidden_size=hidden_size,\n",
        "            num_layers=1, batch_first=batch_first, bidirectional=True)\n",
        "        self.layer_norm = nn.LayerNorm(rnn_dim)\n",
        "        self.dropout = nn.Dropout(dropout)\n",
        "\n",
        "    def forward(self, x):\n",
        "        x = self.layer_norm(x)\n",
        "        x = F.gelu(x)\n",
        "        x, _ = self.BiGRU(x)\n",
        "        x = self.dropout(x)\n",
        "        return x\n"
      ],
      "outputs": [],
      "execution_count": 6,
      "metadata": {
        "id": "lMqmUQLJYBI-",
        "gather": {
          "logged": 1636836522914
        }
      }
    },
    {
      "cell_type": "markdown",
      "source": [
        "# Final Automatic Speech Recognition Model architecture"
      ],
      "metadata": {
        "id": "cupyNOdlno-Z"
      }
    },
    {
      "cell_type": "code",
      "source": [
        "\n",
        "\n",
        "class SpeechRecognitionModel(nn.Module):\n",
        "    \n",
        "    def __init__(self, n_cnn_layers, n_rnn_layers, rnn_dim, n_class, n_feats, stride=2, dropout=0.1):\n",
        "        super(SpeechRecognitionModel, self).__init__()\n",
        "        n_feats = n_feats//2\n",
        "        self.cnn = nn.Conv2d(1, 32, 3, stride=stride, padding=3//2) \n",
        "        self.rescnn_layers = nn.Sequential(*[\n",
        "            ResidualCNN(32, 32, kernel=3, stride=1, dropout=dropout, n_feats=n_feats) \n",
        "            for _ in range(n_cnn_layers)\n",
        "        ])\n",
        "        self.fully_connected = nn.Linear(n_feats*32, rnn_dim)\n",
        "        self.birnn_layers = nn.Sequential(*[\n",
        "            BidirectionalGRU(rnn_dim=rnn_dim if i==0 else rnn_dim*2,\n",
        "                             hidden_size=rnn_dim, dropout=dropout, batch_first=i==0)\n",
        "            for i in range(n_rnn_layers)\n",
        "        ])\n",
        "        self.classifier = nn.Sequential(\n",
        "            nn.Linear(rnn_dim*2, rnn_dim),  \n",
        "            nn.GELU(),\n",
        "            nn.Dropout(dropout),\n",
        "            nn.Linear(rnn_dim, n_class)\n",
        "        )\n",
        "\n",
        "    def forward(self, x):\n",
        "        x = self.cnn(x)\n",
        "        x = self.rescnn_layers(x)\n",
        "        sizes = x.size()\n",
        "        x = x.view(sizes[0], sizes[1] * sizes[2], sizes[3]) \n",
        "        x = x.transpose(1, 2) \n",
        "        x = self.fully_connected(x)\n",
        "        x = self.birnn_layers(x)\n",
        "        x = self.classifier(x)\n",
        "        return x"
      ],
      "outputs": [],
      "execution_count": 7,
      "metadata": {
        "id": "0kIVttAsYDb5",
        "gather": {
          "logged": 1636836523188
        }
      }
    },
    {
      "cell_type": "markdown",
      "source": [
        "# Training and Testing Code"
      ],
      "metadata": {
        "id": "y41lkdZ-noVh"
      }
    },
    {
      "cell_type": "code",
      "source": [
        "class IterMeter(object):\n",
        "    def __init__(self):\n",
        "        self.val = 0\n",
        "\n",
        "    def step(self):\n",
        "        self.val += 1\n",
        "\n",
        "    def get(self):\n",
        "        return self.val\n",
        "\n",
        "\n",
        "def train(model, device, train_loader, criterion, optimizer, scheduler, epoch, iter_meter):\n",
        "    model.train()\n",
        "    data_len = len(train_loader.dataset)\n",
        "\n",
        "    for batch_idx, _data in enumerate(train_loader):\n",
        "        spectrograms, labels, input_lengths, label_lengths = _data \n",
        "        spectrograms, labels = spectrograms.to(device), labels.to(device)\n",
        "\n",
        "        optimizer.zero_grad()\n",
        "\n",
        "        output = model(spectrograms) \n",
        "        output = F.log_softmax(output, dim=2)\n",
        "        output = output.transpose(0, 1)\n",
        "\n",
        "        loss = criterion(output, labels, input_lengths, label_lengths)\n",
        "        loss.backward()\n",
        "\n",
        "    \n",
        "        optimizer.step()\n",
        "        scheduler.step()\n",
        "        iter_meter.step()\n",
        "        if batch_idx % 100 == 0 or batch_idx == data_len:\n",
        "            print('Train Epoch: {} [{}/{} ({:.0f}%)]\\tLoss: {:.6f}'.format(\n",
        "                epoch, batch_idx * len(spectrograms), data_len,\n",
        "                100. * batch_idx / len(train_loader), loss.item()))\n",
        "\n",
        "\n",
        "def test(model, device, test_loader, criterion, epoch, iter_meter):\n",
        "    print('\\nevaluating...')\n",
        "    model.eval()\n",
        "    test_loss = 0\n",
        "    test_cer, test_wer = [], []\n",
        "\n",
        "    with torch.no_grad():\n",
        "        for i, _data in enumerate(test_loader):\n",
        "            spectrograms, labels, input_lengths, label_lengths = _data \n",
        "            spectrograms, labels = spectrograms.to(device), labels.to(device)\n",
        "\n",
        "            output = model(spectrograms)  \n",
        "            output = F.log_softmax(output, dim=2)\n",
        "            output = output.transpose(0, 1)\n",
        "\n",
        "            loss = criterion(output, labels, input_lengths, label_lengths)\n",
        "            test_loss += loss.item() / len(test_loader)\n",
        "\n",
        "            decoded_preds, decoded_targets = GreedyDecoder(output.transpose(0, 1), labels, label_lengths)\n",
        "            for j in range(len(decoded_preds)):\n",
        "                test_cer.append(cer(decoded_targets[j], decoded_preds[j]))\n",
        "                test_wer.append(wer(decoded_targets[j], decoded_preds[j]))\n",
        "\n",
        "\n",
        "    avg_cer = sum(test_cer)/len(test_cer)\n",
        "    avg_wer = sum(test_wer)/len(test_wer)\n",
        "  \n",
        "    print('Test set: Average loss: {:.4f}, Average CER: {:4f} Average WER: {:.4f}\\n'.format(test_loss, avg_cer, avg_wer))\n",
        "    # filename='./best_fit_model'+str(epoch)+'.h5'\n",
        "    # torch.save(model,filename)\n",
        "\n",
        "\n"
      ],
      "outputs": [],
      "execution_count": 8,
      "metadata": {
        "id": "RZ8oZecBYGFi",
        "gather": {
          "logged": 1636836523420
        }
      }
    },
    {
      "cell_type": "markdown",
      "source": [
        "# Hyperparameters of the model"
      ],
      "metadata": {
        "id": "wGj7rLijn4Q-"
      }
    },
    {
      "cell_type": "code",
      "source": [
        "learning_rate = 5e-4\n",
        "batch_size = 5\n",
        "epochs = 10\n",
        "train_url = \"train-clean-100\"\n",
        "test_url = \"test-clean\""
      ],
      "outputs": [],
      "execution_count": 9,
      "metadata": {
        "id": "gMG9JxM4YHaA",
        "gather": {
          "logged": 1636836523650
        }
      }
    },
    {
      "cell_type": "code",
      "source": [
        "if not os.path.isdir(\"./data\"):\n",
        "    os.makedirs(\"./data\")\n",
        "train_dataset = torchaudio.datasets.LIBRISPEECH(\"./data\", url=train_url, download=True)\n",
        "test_dataset = torchaudio.datasets.LIBRISPEECH(\"./data\", url=test_url, download=True)"
      ],
      "outputs": [],
      "execution_count": 10,
      "metadata": {
        "id": "0pUOYYKHYiCC",
        "colab": {
          "base_uri": "https://localhost:8080/",
          "height": 81,
          "referenced_widgets": [
            "1796782785fc4eb88094ff9a8af70811",
            "a9de55cd901442b0867be3fe7d8d7976",
            "9d0ff0d587b2487aa25c04f1a2171793",
            "ccc60b9dcd734bdca18a62685682ed06",
            "e99a213eaa854b038ff3dc70f293885f",
            "19309069f93d432bab123c28de5429d4",
            "6e33f740de1d4a1ea2aaf5841cf7bb83",
            "0cff7588dbaf4782a98c1cb585d09c8f",
            "40256473f4224868a8fe75bb898f8141",
            "ba235650ac274df6b1fd30e375b29adc",
            "e37227a1c83940a0a250308d24ee4eb0",
            "ba2d2eb8c23d4093949053998458e338",
            "dd1851aa7a7e413aa2558b556a219eb9",
            "3c387c58e81f4ca4b85bc384ad108816",
            "71d278d66af741e19aa1b6ef63acfb56",
            "568024ac4dee40fb9830bc1150ba9040",
            "973afb9d80db4dcc9d86656caf556d56",
            "2fb1a9f41d94473f8280e568b5164c20",
            "aa2aeb501cee40f88b985d85bf196a61",
            "a828000f84844da48e7a5bd4bedae62a",
            "9d2ade5ab8a8427f98139961863b4da8",
            "ddd57519309745ee934c025e00087c4a"
          ]
        },
        "outputId": "4769bf0c-c156-438b-bbcc-50257c540c5e",
        "gather": {
          "logged": 1636836530693
        }
      }
    },
    {
      "cell_type": "code",
      "source": [
        "hparams = {\n",
        "    \"n_cnn_layers\": 3,\n",
        "    \"n_rnn_layers\": 5,\n",
        "    \"rnn_dim\": 512,\n",
        "    \"n_class\": 29,\n",
        "    \"n_feats\": 128,\n",
        "    \"stride\":2,\n",
        "    \"dropout\": 0.1,\n",
        "    \"learning_rate\": learning_rate,\n",
        "    \"batch_size\": batch_size,\n",
        "    \"epochs\": epochs\n",
        "}\n",
        "\n",
        "use_cuda = torch.cuda.is_available()\n",
        "torch.manual_seed(7)\n",
        "device = torch.device(\"cuda\" if use_cuda else \"cpu\")\n",
        "\n",
        "\n",
        "kwargs = {'num_workers': 1, 'pin_memory': True} if use_cuda else {}\n",
        "train_loader = data.DataLoader(dataset=train_dataset,\n",
        "                            batch_size=hparams['batch_size'],\n",
        "                            shuffle=True,\n",
        "                            collate_fn=lambda x: data_processing(x, 'train'),\n",
        "                            **kwargs)\n",
        "test_loader = data.DataLoader(dataset=test_dataset,\n",
        "                            batch_size=hparams['batch_size'],\n",
        "                            shuffle=False,\n",
        "                            collate_fn=lambda x: data_processing(x, 'valid'),\n",
        "                            **kwargs)\n",
        "\n",
        "model = SpeechRecognitionModel(\n",
        "    hparams['n_cnn_layers'], hparams['n_rnn_layers'], hparams['rnn_dim'],\n",
        "    hparams['n_class'], hparams['n_feats'], hparams['stride'], hparams['dropout']\n",
        "    ).to(device)\n",
        "\n",
        "print(model)\n",
        "print('Num Model Parameters', sum([param.nelement() for param in model.parameters()]))\n",
        "\n",
        "optimizer = optim.AdamW(model.parameters(), hparams['learning_rate'])\n",
        "criterion = nn.CTCLoss(blank=28).to(device)\n",
        "scheduler = optim.lr_scheduler.OneCycleLR(optimizer, max_lr=hparams['learning_rate'], steps_per_epoch=int(len(train_loader)),epochs=hparams['epochs'],anneal_strategy='linear')\n",
        "\n",
        "iter_meter = IterMeter()\n"
      ],
      "outputs": [
        {
          "output_type": "stream",
          "name": "stdout",
          "text": "SpeechRecognitionModel(\n  (cnn): Conv2d(1, 32, kernel_size=(3, 3), stride=(2, 2), padding=(1, 1))\n  (rescnn_layers): Sequential(\n    (0): ResidualCNN(\n      (cnn1): Conv2d(32, 32, kernel_size=(3, 3), stride=(1, 1), padding=(1, 1))\n      (cnn2): Conv2d(32, 32, kernel_size=(3, 3), stride=(1, 1), padding=(1, 1))\n      (dropout1): Dropout(p=0.1, inplace=False)\n      (dropout2): Dropout(p=0.1, inplace=False)\n      (layer_norm1): CNNLayerNorm(\n        (layer_norm): LayerNorm((64,), eps=1e-05, elementwise_affine=True)\n      )\n      (layer_norm2): CNNLayerNorm(\n        (layer_norm): LayerNorm((64,), eps=1e-05, elementwise_affine=True)\n      )\n    )\n    (1): ResidualCNN(\n      (cnn1): Conv2d(32, 32, kernel_size=(3, 3), stride=(1, 1), padding=(1, 1))\n      (cnn2): Conv2d(32, 32, kernel_size=(3, 3), stride=(1, 1), padding=(1, 1))\n      (dropout1): Dropout(p=0.1, inplace=False)\n      (dropout2): Dropout(p=0.1, inplace=False)\n      (layer_norm1): CNNLayerNorm(\n        (layer_norm): LayerNorm((64,), eps=1e-05, elementwise_affine=True)\n      )\n      (layer_norm2): CNNLayerNorm(\n        (layer_norm): LayerNorm((64,), eps=1e-05, elementwise_affine=True)\n      )\n    )\n    (2): ResidualCNN(\n      (cnn1): Conv2d(32, 32, kernel_size=(3, 3), stride=(1, 1), padding=(1, 1))\n      (cnn2): Conv2d(32, 32, kernel_size=(3, 3), stride=(1, 1), padding=(1, 1))\n      (dropout1): Dropout(p=0.1, inplace=False)\n      (dropout2): Dropout(p=0.1, inplace=False)\n      (layer_norm1): CNNLayerNorm(\n        (layer_norm): LayerNorm((64,), eps=1e-05, elementwise_affine=True)\n      )\n      (layer_norm2): CNNLayerNorm(\n        (layer_norm): LayerNorm((64,), eps=1e-05, elementwise_affine=True)\n      )\n    )\n  )\n  (fully_connected): Linear(in_features=2048, out_features=512, bias=True)\n  (birnn_layers): Sequential(\n    (0): BidirectionalGRU(\n      (BiGRU): GRU(512, 512, batch_first=True, bidirectional=True)\n      (layer_norm): LayerNorm((512,), eps=1e-05, elementwise_affine=True)\n      (dropout): Dropout(p=0.1, inplace=False)\n    )\n    (1): BidirectionalGRU(\n      (BiGRU): GRU(1024, 512, bidirectional=True)\n      (layer_norm): LayerNorm((1024,), eps=1e-05, elementwise_affine=True)\n      (dropout): Dropout(p=0.1, inplace=False)\n    )\n    (2): BidirectionalGRU(\n      (BiGRU): GRU(1024, 512, bidirectional=True)\n      (layer_norm): LayerNorm((1024,), eps=1e-05, elementwise_affine=True)\n      (dropout): Dropout(p=0.1, inplace=False)\n    )\n    (3): BidirectionalGRU(\n      (BiGRU): GRU(1024, 512, bidirectional=True)\n      (layer_norm): LayerNorm((1024,), eps=1e-05, elementwise_affine=True)\n      (dropout): Dropout(p=0.1, inplace=False)\n    )\n    (4): BidirectionalGRU(\n      (BiGRU): GRU(1024, 512, bidirectional=True)\n      (layer_norm): LayerNorm((1024,), eps=1e-05, elementwise_affine=True)\n      (dropout): Dropout(p=0.1, inplace=False)\n    )\n  )\n  (classifier): Sequential(\n    (0): Linear(in_features=1024, out_features=512, bias=True)\n    (1): GELU()\n    (2): Dropout(p=0.1, inplace=False)\n    (3): Linear(in_features=512, out_features=29, bias=True)\n  )\n)\nNum Model Parameters 23705373\n"
        }
      ],
      "execution_count": 11,
      "metadata": {
        "colab": {
          "base_uri": "https://localhost:8080/"
        },
        "id": "p4KvaBDgYKln",
        "outputId": "aa9a2cfc-2a80-48d7-a188-9b29c48cae12",
        "gather": {
          "logged": 1636836532921
        }
      }
    },
    {
      "cell_type": "markdown",
      "source": [
        "# Code for model training and testing (Optional)\n",
        "\n",
        "\n",
        "> This code snippet should only be used for base model training.\n",
        "\n",
        "> Since we already have our based model trained , we will skip this part and load our trained model directly\n",
        "\n",
        "\n",
        "\n",
        "\n"
      ],
      "metadata": {
        "id": "QxftuqFfo_tO"
      }
    },
    {
      "cell_type": "code",
      "source": [
        "# for epoch in range(1, epochs+1):\n",
        "#     train(model, device, train_loader, criterion, optimizer, scheduler, epoch, iter_meter)\n",
        "#     test(model, device, test_loader, criterion, epoch, iter_meter)"
      ],
      "outputs": [],
      "execution_count": 12,
      "metadata": {
        "id": "3C6FJgkro8I3",
        "gather": {
          "logged": 1636836533157
        }
      }
    },
    {
      "cell_type": "markdown",
      "source": [
        "# Loading the best fit model\n",
        "\n",
        "\n",
        "*   The base model for slurred speech Recognition has been trained on kaggle for 10 epoch.\n",
        "*   It has been trained on Librispeech Corpus Speech Dataset\n",
        "\n"
      ],
      "metadata": {
        "id": "fX0uozFvn--5"
      }
    },
    {
      "cell_type": "code",
      "source": [
        "# import os \n",
        "# print(os.getcwd())\n",
        "\n",
        "loaded_model = torch.load('/mnt/batch/tasks/shared/LS_root/mounts/clusters/shivam1234/code/Users/kshivamranjan.cse18/Best-Fit-TrainedModel/best_fit_model_final.h5')\n"
      ],
      "outputs": [],
      "execution_count": 13,
      "metadata": {
        "id": "iGALiIQhZMwO",
        "gather": {
          "logged": 1636836535313
        }
      }
    },
    {
      "cell_type": "code",
      "source": [
        "print(loaded_model)"
      ],
      "outputs": [
        {
          "output_type": "stream",
          "name": "stdout",
          "text": "SpeechRecognitionModel(\n  (cnn): Conv2d(1, 32, kernel_size=(3, 3), stride=(2, 2), padding=(1, 1))\n  (rescnn_layers): Sequential(\n    (0): ResidualCNN(\n      (cnn1): Conv2d(32, 32, kernel_size=(3, 3), stride=(1, 1), padding=(1, 1))\n      (cnn2): Conv2d(32, 32, kernel_size=(3, 3), stride=(1, 1), padding=(1, 1))\n      (dropout1): Dropout(p=0.1, inplace=False)\n      (dropout2): Dropout(p=0.1, inplace=False)\n      (layer_norm1): CNNLayerNorm(\n        (layer_norm): LayerNorm((64,), eps=1e-05, elementwise_affine=True)\n      )\n      (layer_norm2): CNNLayerNorm(\n        (layer_norm): LayerNorm((64,), eps=1e-05, elementwise_affine=True)\n      )\n    )\n    (1): ResidualCNN(\n      (cnn1): Conv2d(32, 32, kernel_size=(3, 3), stride=(1, 1), padding=(1, 1))\n      (cnn2): Conv2d(32, 32, kernel_size=(3, 3), stride=(1, 1), padding=(1, 1))\n      (dropout1): Dropout(p=0.1, inplace=False)\n      (dropout2): Dropout(p=0.1, inplace=False)\n      (layer_norm1): CNNLayerNorm(\n        (layer_norm): LayerNorm((64,), eps=1e-05, elementwise_affine=True)\n      )\n      (layer_norm2): CNNLayerNorm(\n        (layer_norm): LayerNorm((64,), eps=1e-05, elementwise_affine=True)\n      )\n    )\n    (2): ResidualCNN(\n      (cnn1): Conv2d(32, 32, kernel_size=(3, 3), stride=(1, 1), padding=(1, 1))\n      (cnn2): Conv2d(32, 32, kernel_size=(3, 3), stride=(1, 1), padding=(1, 1))\n      (dropout1): Dropout(p=0.1, inplace=False)\n      (dropout2): Dropout(p=0.1, inplace=False)\n      (layer_norm1): CNNLayerNorm(\n        (layer_norm): LayerNorm((64,), eps=1e-05, elementwise_affine=True)\n      )\n      (layer_norm2): CNNLayerNorm(\n        (layer_norm): LayerNorm((64,), eps=1e-05, elementwise_affine=True)\n      )\n    )\n  )\n  (fully_connected): Linear(in_features=2048, out_features=512, bias=True)\n  (birnn_layers): Sequential(\n    (0): BidirectionalGRU(\n      (BiGRU): GRU(512, 512, batch_first=True, bidirectional=True)\n      (layer_norm): LayerNorm((512,), eps=1e-05, elementwise_affine=True)\n      (dropout): Dropout(p=0.1, inplace=False)\n    )\n    (1): BidirectionalGRU(\n      (BiGRU): GRU(1024, 512, bidirectional=True)\n      (layer_norm): LayerNorm((1024,), eps=1e-05, elementwise_affine=True)\n      (dropout): Dropout(p=0.1, inplace=False)\n    )\n    (2): BidirectionalGRU(\n      (BiGRU): GRU(1024, 512, bidirectional=True)\n      (layer_norm): LayerNorm((1024,), eps=1e-05, elementwise_affine=True)\n      (dropout): Dropout(p=0.1, inplace=False)\n    )\n    (3): BidirectionalGRU(\n      (BiGRU): GRU(1024, 512, bidirectional=True)\n      (layer_norm): LayerNorm((1024,), eps=1e-05, elementwise_affine=True)\n      (dropout): Dropout(p=0.1, inplace=False)\n    )\n    (4): BidirectionalGRU(\n      (BiGRU): GRU(1024, 512, bidirectional=True)\n      (layer_norm): LayerNorm((1024,), eps=1e-05, elementwise_affine=True)\n      (dropout): Dropout(p=0.1, inplace=False)\n    )\n  )\n  (classifier): Sequential(\n    (0): Linear(in_features=1024, out_features=512, bias=True)\n    (1): GELU()\n    (2): Dropout(p=0.1, inplace=False)\n    (3): Linear(in_features=512, out_features=29, bias=True)\n  )\n)\n"
        }
      ],
      "execution_count": 14,
      "metadata": {
        "colab": {
          "base_uri": "https://localhost:8080/"
        },
        "id": "Uh6gIyA4YgpQ",
        "outputId": "a174e1c2-0547-470a-f0d6-a595ea3a0d3b",
        "gather": {
          "logged": 1636836535582
        }
      }
    },
    {
      "cell_type": "markdown",
      "source": [
        "# Testing our loaded base model"
      ],
      "metadata": {
        "id": "NEXebGeypl03"
      }
    },
    {
      "cell_type": "code",
      "source": [
        "test(loaded_model, device, test_loader, criterion, 1, iter_meter)"
      ],
      "outputs": [
        {
          "output_type": "stream",
          "name": "stdout",
          "text": "\nevaluating...\nTest set: Average loss: 0.4614, Average CER: 0.100389 Average WER: 0.1188\n\n"
        }
      ],
      "execution_count": 15,
      "metadata": {
        "colab": {
          "base_uri": "https://localhost:8080/"
        },
        "id": "vUkhKqGGpxol",
        "outputId": "aeb6b30b-c395-4980-c465-badbf7ec2549",
        "gather": {
          "logged": 1636837975618
        }
      }
    },
    {
      "cell_type": "code",
      "source": [
        "import os\n",
        "from typing import Tuple, Union\n",
        "from pathlib import Path\n",
        "import torchaudio\n",
        "from torch import Tensor\n",
        "from torch.utils.data import Dataset\n",
        "\n",
        "\n",
        "def load_librispeech_item(fileid,path,ext_audio,ext_txt):\n",
        "    speaker_id, chapter_id, utterance_id = fileid.split(\"-\")\n",
        "\n",
        "    file_text = speaker_id + \"-\" + chapter_id + ext_txt\n",
        "    file_text = os.path.join(path, speaker_id, chapter_id, file_text)\n",
        "\n",
        "    fileid_audio = speaker_id + \"-\" + chapter_id + \"-\" + utterance_id\n",
        "    file_audio = fileid_audio + ext_audio\n",
        "    file_audio = os.path.join(path, speaker_id, chapter_id, file_audio)\n",
        "\n",
        "    waveform, sample_rate = torchaudio.load(file_audio)\n",
        "\n",
        "    with open(file_text) as ft:\n",
        "        for line in ft:\n",
        "            fileid_text, utterance = line.strip().split(\" \", 1)\n",
        "            if fileid_audio == fileid_text:\n",
        "                break\n",
        "        else:\n",
        "            raise FileNotFoundError(\"Translation not found for \" + fileid_audio)\n",
        "\n",
        "    return (waveform,sample_rate,utterance,int(speaker_id),int(chapter_id),int(utterance_id),)\n"
      ],
      "outputs": [],
      "execution_count": 16,
      "metadata": {
        "id": "_p8C5mpLbm20",
        "gather": {
          "logged": 1636837976001
        }
      }
    },
    {
      "cell_type": "markdown",
      "source": [
        "## Custom class for loading Slurred Speech Test Dataset in Pytorch"
      ],
      "metadata": {
        "id": "rNeuTm-IFr8x"
      }
    },
    {
      "cell_type": "code",
      "source": [
        "class TestDataset(Dataset): \n",
        "    _ext_txt = \".trans.txt\"\n",
        "    _ext_audio = \".flac\"\n",
        "    def __init__(self):\n",
        "        self._path=\"/mnt/batch/tasks/shared/LS_root/mounts/clusters/shivam1234/code/Users/kshivamranjan.cse18/SlurredSpeech_Dataset_Test\"\n",
        "        self._walker=['1-2-0000', '1-2-0001', '1-2-0002', '1-2-0003', '1-2-0004', '1-2-0005', '1-2-0006', '1-2-0007', '1-2-0008', '1-2-0009', '1-2-0010', '1-2-0011', '1-2-0012', '1-2-0013', '1-2-0014', '1-2-0015', '1-2-0016', '1-2-0017', '1-2-0018', '1-2-0019', '1-2-0020', '1-2-0021', '1-2-0022', '1-2-0023', '1-2-0024', '1-2-0025', '1-2-0026', '1-2-0027', '1-2-0028', '1-2-0029', '1-2-0030', '1-2-0031', '1-2-0032', '1-2-0033', '1-2-0034', '1-2-0035', '1-2-0036', '1-2-0037', '1-2-0038', '1-2-0039', '1-2-0040', '1-2-0041', '1-2-0042', '1-2-0043', '1-2-0044', '1-2-0045', '1-2-0046', '1-2-0047', '1-2-0048', '1-2-0049', '1-2-0050', '1-2-0051', '1-2-0052', '1-2-0053', '1-2-0054', '1-2-0055', '1-2-0056', '1-2-0057', '1-2-0058', '1-2-0059', '1-2-0060', '1-2-0061', '1-2-0062', '1-2-0063', '1-2-0064', '1-2-0065', '1-2-0066', '1-2-0067', '1-2-0068', '1-2-0069', '1-2-0070', '1-2-0071', '1-2-0072', '1-2-0073', '1-2-0074', '1-2-0075', '1-2-0076', '1-2-0077', '1-2-0078', '1-2-0079', '1-2-0080', '1-2-0081', '1-2-0082', '1-2-0083', '1-2-0084', '1-2-0085', '1-2-0086', '1-2-0087', '1-2-0088', '1-2-0089', '1-2-0090', '1-2-0091', '1-2-0092', '1-2-0093', '1-2-0094', '1-2-0095', '1-2-0096', '1-2-0097', '1-2-0098', '1-2-0099']\n",
        "\n",
        "    def __getitem__(self, n):\n",
        "        fileid = self._walker[n]\n",
        "        return load_librispeech_item(fileid, self._path, self._ext_audio, self._ext_txt)\n",
        "\n",
        "    def __len__(self):\n",
        "        return len(self._walker)   \n",
        "    \n",
        "    \n",
        "testDataset_slurred_speech=TestDataset()"
      ],
      "outputs": [],
      "execution_count": 17,
      "metadata": {
        "id": "w1AWy9snF1WZ",
        "gather": {
          "logged": 1636837976229
        }
      }
    },
    {
      "cell_type": "markdown",
      "source": [
        "## Custom class for loading Slurred Speech Train Dataset in Pytorch"
      ],
      "metadata": {
        "id": "Z-yHQfJhF4Is"
      }
    },
    {
      "cell_type": "code",
      "source": [
        "class TrainDataset(Dataset): \n",
        "    _ext_txt = \".trans.txt\"\n",
        "    _ext_audio = \".flac\"\n",
        "    def __init__(self):\n",
        "        self._path=\"/mnt/batch/tasks/shared/LS_root/mounts/clusters/shivam1234/code/Users/kshivamranjan.cse18/SlurredSpeech_Dataset_Train\"\n",
        "        self._walker=['1-2-0000', '1-2-0001', '1-2-0002', '1-2-0003', '1-2-0004', '1-2-0005', '1-2-0006', '1-2-0007', '1-2-0008', '1-2-0009', '1-2-0010', '1-2-0011', '1-2-0012', '1-2-0013', '1-2-0014', '1-2-0015', '1-2-0016', '1-2-0017', '1-2-0018', '1-2-0019', '1-2-0020', '1-2-0021', '1-2-0022', '1-2-0023', '1-2-0024', '1-2-0025', '1-2-0026', '1-2-0027', '1-2-0028', '1-2-0029', '1-2-0030', '1-2-0031', '1-2-0032', '1-2-0033', '1-2-0034', '1-2-0035', '1-2-0036', '1-2-0037', '1-2-0038', '1-2-0039', '1-2-0040', '1-2-0041', '1-2-0042', '1-2-0043', '1-2-0044', '1-2-0045', '1-2-0046', '1-2-0047', '1-2-0048', '1-2-0049', '1-2-0050', '1-2-0051', '1-2-0052', '1-2-0053', '1-2-0054', '1-2-0055', '1-2-0056', '1-2-0057', '1-2-0058', '1-2-0059', '1-2-0060', '1-2-0061', '1-2-0062', '1-2-0063', '1-2-0064', '1-2-0065', '1-2-0066', '1-2-0067', '1-2-0068', '1-2-0069', '1-2-0070', '1-2-0071', '1-2-0072', '1-2-0073', '1-2-0074', '1-2-0075', '1-2-0076', '1-2-0077', '1-2-0078', '1-2-0079', '1-2-0080', '1-2-0081', '1-2-0082', '1-2-0083', '1-2-0084', '1-2-0085', '1-2-0086', '1-2-0087', '1-2-0088', '1-2-0089', '1-2-0090', '1-2-0091', '1-2-0092', '1-2-0093', '1-2-0094', '1-2-0095', '1-2-0096', '1-2-0097', '1-2-0098', '1-2-0099']\n",
        "\n",
        "    def __getitem__(self, n):\n",
        "        fileid = self._walker[n]\n",
        "        return load_librispeech_item(fileid, self._path, self._ext_audio, self._ext_txt)\n",
        "\n",
        "    def __len__(self):\n",
        "        return len(self._walker)   \n",
        "    \n",
        "    \n",
        "trainDataset_slurred_speech=TrainDataset()"
      ],
      "outputs": [],
      "execution_count": 18,
      "metadata": {
        "id": "32vqme6tF_9D",
        "gather": {
          "logged": 1636837976543
        }
      }
    },
    {
      "cell_type": "code",
      "source": [
        "\n",
        "testDataLoaderSlurred = data.DataLoader(dataset=testDataset_slurred_speech,batch_size=hparams['batch_size'],shuffle=False,collate_fn=lambda x: data_processing(x, 'valid'),**kwargs)\n",
        "trainDataLoderSlurred = data.DataLoader(dataset=trainDataset_slurred_speech,batch_size=hparams['batch_size'],shuffle=False,collate_fn=lambda x: data_processing(x, 'valid'),**kwargs)\n",
        "\n"
      ],
      "outputs": [],
      "execution_count": 19,
      "metadata": {
        "id": "DK8WOvO3bnAo",
        "gather": {
          "logged": 1636837976762
        }
      }
    },
    {
      "cell_type": "markdown",
      "source": [
        "# Testing our base model before fine tuning on slurred speech dataset"
      ],
      "metadata": {
        "id": "7ShzeIQjw7Zw"
      }
    },
    {
      "cell_type": "code",
      "source": [
        "test(loaded_model, device, testDataLoaderSlurred, criterion, 1, iter_meter)"
      ],
      "outputs": [
        {
          "output_type": "stream",
          "name": "stdout",
          "text": "\nevaluating...\nTest set: Average loss: 4.3406, Average CER: 0.673538 Average WER: 0.6378\n\n"
        }
      ],
      "execution_count": 20,
      "metadata": {
        "colab": {
          "base_uri": "https://localhost:8080/"
        },
        "id": "CRpIbdbfbnGl",
        "outputId": "21741f77-2c8b-4f34-fa37-fb12c5adac3a",
        "gather": {
          "logged": 1636837995861
        }
      }
    },
    {
      "cell_type": "markdown",
      "source": [
        "# Transfer learning Training and Testing"
      ],
      "metadata": {
        "id": "L2ORmkDudhKN"
      }
    },
    {
      "cell_type": "code",
      "source": [
        "class IterMeter(object):\n",
        "    def __init__(self):\n",
        "        self.val = 0\n",
        "\n",
        "    def step(self):\n",
        "        self.val += 1\n",
        "\n",
        "    def get(self):\n",
        "        return self.val\n",
        "\n",
        "def train_transfer_learning(model, device, train_loader, criterion, optimizer, scheduler, epoch, iter_meter):\n",
        "    model.train()\n",
        "    data_len = len(train_loader.dataset)\n",
        "\n",
        "    for batch_idx, _data in enumerate(train_loader):\n",
        "        spectrograms, labels, input_lengths, label_lengths = _data \n",
        "        spectrograms, labels = spectrograms.to(device), labels.to(device)\n",
        "\n",
        "        optimizer.zero_grad()\n",
        "\n",
        "        output = model(spectrograms) \n",
        "        output = F.log_softmax(output, dim=2)\n",
        "        output = output.transpose(0, 1)\n",
        "\n",
        "        loss = criterion(output, labels, input_lengths, label_lengths)\n",
        "        loss.backward()\n",
        "\n",
        "    \n",
        "        optimizer.step()\n",
        "        scheduler.step()\n",
        "        iter_meter.step()\n",
        "        if batch_idx % 100 == 0 or batch_idx == data_len:\n",
        "            print('Train Epoch: {} [{}/{} ({:.0f}%)]\\tLoss: {:.6f}'.format(\n",
        "                epoch, batch_idx * len(spectrograms), data_len,\n",
        "                100. * batch_idx / len(train_loader), loss.item()))\n",
        "\n",
        "\n",
        "def test_transfer_learning(model, device, test_loader, criterion, epoch, iter_meter,losses,character_error_rates,word_error_rates):\n",
        "    print('\\nevaluating...')\n",
        "    model.eval()\n",
        "    test_loss = 0\n",
        "    test_cer, test_wer = [], []\n",
        "    with torch.no_grad():\n",
        "        for i, _data in enumerate(test_loader):\n",
        "            spectrograms, labels, input_lengths, label_lengths = _data \n",
        "            spectrograms, labels = spectrograms.to(device), labels.to(device)\n",
        "\n",
        "            output = model(spectrograms)  \n",
        "            output = F.log_softmax(output, dim=2)\n",
        "            output = output.transpose(0, 1)\n",
        "\n",
        "            loss = criterion(output, labels, input_lengths, label_lengths)\n",
        "            test_loss += loss.item() / len(test_loader)\n",
        "\n",
        "            decoded_preds, decoded_targets = GreedyDecoder(output.transpose(0, 1), labels, label_lengths)\n",
        "            for j in range(len(decoded_preds)):\n",
        "                test_cer.append(cer(decoded_targets[j], decoded_preds[j]))\n",
        "                test_wer.append(wer(decoded_targets[j], decoded_preds[j]))\n",
        "\n",
        "\n",
        "    avg_cer = sum(test_cer)/len(test_cer)\n",
        "    avg_wer = sum(test_wer)/len(test_wer)\n",
        "    losses.append(test_loss)\n",
        "    character_error_rates.append(avg_cer)\n",
        "    word_error_rates.append(avg_wer)\n",
        "    print('Test set: Average loss: {:.4f}, Average CER: {:4f} Average WER: {:.4f}\\n'.format(test_loss, avg_cer, avg_wer))\n",
        "    filename='./best_fit_model_transfer_learning'+str(epoch)+'.h5'\n",
        "    torch.save(model,filename)\n",
        "\n",
        "\n"
      ],
      "outputs": [],
      "execution_count": 21,
      "metadata": {
        "id": "rqh4hqZrdgJD",
        "gather": {
          "logged": 1636837996075
        }
      }
    },
    {
      "cell_type": "markdown",
      "source": [
        "# Applying transfer learning"
      ],
      "metadata": {
        "id": "WS6xjIOzxQLz"
      }
    },
    {
      "cell_type": "code",
      "source": [
        "losses=[]\n",
        "character_error_rates=[]\n",
        "word_error_rates=[]\n",
        "def transfer_learning_type1(pre_trained_model):\n",
        "  hparams = {\"learning_rate\": 5e-4,\"batch_size\": 5,\"epochs\": 20}\n",
        "  opti = optim.AdamW(pre_trained_model.parameters(), hparams['learning_rate'])\n",
        "  crit = nn.CTCLoss(blank=28).to(device)\n",
        "  sche = optim.lr_scheduler.OneCycleLR(opti, max_lr=hparams['learning_rate'], steps_per_epoch=int(len(trainDataLoderSlurred)),epochs=hparams['epochs'],anneal_strategy='linear')\n",
        "  iter = IterMeter()\n",
        "  for epoch in range(1, hparams['epochs']+1):\n",
        "    train_transfer_learning(pre_trained_model, device, trainDataLoderSlurred, crit, opti, sche, epoch, iter)\n",
        "    test_transfer_learning(pre_trained_model, device, testDataLoaderSlurred, crit, epoch, iter,losses,character_error_rates,word_error_rates)\n",
        "\n",
        "transfer_learning_type1(loaded_model)\n"
      ],
      "outputs": [
        {
          "output_type": "stream",
          "name": "stdout",
          "text": "Train Epoch: 1 [0/100 (0%)]\tLoss: 4.572165\n\nevaluating...\nTest set: Average loss: 2.8680, Average CER: 0.970455 Average WER: 0.9198\n\nTrain Epoch: 2 [0/100 (0%)]\tLoss: 2.963067\n\nevaluating...\nTest set: Average loss: 2.7544, Average CER: 0.875655 Average WER: 0.6950\n\nTrain Epoch: 3 [0/100 (0%)]\tLoss: 2.771671\n\nevaluating...\nTest set: Average loss: 2.7101, Average CER: 0.814480 Average WER: 0.6236\n\nTrain Epoch: 4 [0/100 (0%)]\tLoss: 2.682830\n\nevaluating...\nTest set: Average loss: 2.7176, Average CER: 0.869927 Average WER: 0.6435\n\nTrain Epoch: 5 [0/100 (0%)]\tLoss: 2.699848\n\nevaluating...\nTest set: Average loss: 2.7038, Average CER: 0.866582 Average WER: 0.6379\n\nTrain Epoch: 6 [0/100 (0%)]\tLoss: 2.663502\n\nevaluating...\nTest set: Average loss: 2.7347, Average CER: 0.937172 Average WER: 0.6964\n\nTrain Epoch: 7 [0/100 (0%)]\tLoss: 2.682712\n\nevaluating...\nTest set: Average loss: 2.8100, Average CER: 0.905992 Average WER: 0.7117\n\nTrain Epoch: 8 [0/100 (0%)]\tLoss: 2.700503\n\nevaluating...\nTest set: Average loss: 2.7444, Average CER: 0.877061 Average WER: 0.6484\n\nTrain Epoch: 9 [0/100 (0%)]\tLoss: 2.664286\n\nevaluating...\nTest set: Average loss: 2.7039, Average CER: 0.895102 Average WER: 0.6948\n\nTrain Epoch: 10 [0/100 (0%)]\tLoss: 2.656902\n\nevaluating...\nTest set: Average loss: 2.6270, Average CER: 0.863426 Average WER: 0.6470\n\nTrain Epoch: 11 [0/100 (0%)]\tLoss: 2.625936\n\nevaluating...\nTest set: Average loss: 2.6155, Average CER: 0.854236 Average WER: 0.6400\n\nTrain Epoch: 12 [0/100 (0%)]\tLoss: 2.597359\n\nevaluating...\nTest set: Average loss: 2.5687, Average CER: 0.794344 Average WER: 0.6134\n\nTrain Epoch: 13 [0/100 (0%)]\tLoss: 2.617945\n\nevaluating...\nTest set: Average loss: 2.6296, Average CER: 0.754878 Average WER: 0.6105\n\nTrain Epoch: 14 [0/100 (0%)]\tLoss: 2.851920\n\nevaluating...\nTest set: Average loss: 2.7028, Average CER: 0.772233 Average WER: 0.6056\n\nTrain Epoch: 15 [0/100 (0%)]\tLoss: 2.874159\n\nevaluating...\nTest set: Average loss: 2.5143, Average CER: 0.813280 Average WER: 0.6194\n\nTrain Epoch: 16 [0/100 (0%)]\tLoss: 2.558403\n\nevaluating...\nTest set: Average loss: 2.4949, Average CER: 0.829614 Average WER: 0.6187\n\nTrain Epoch: 17 [0/100 (0%)]\tLoss: 2.520514\n\nevaluating...\nTest set: Average loss: 2.4599, Average CER: 0.793899 Average WER: 0.6087\n\nTrain Epoch: 18 [0/100 (0%)]\tLoss: 2.455046\n\nevaluating...\nTest set: Average loss: 2.4311, Average CER: 0.791290 Average WER: 0.6043\n\nTrain Epoch: 19 [0/100 (0%)]\tLoss: 2.425706\n\nevaluating...\nTest set: Average loss: 2.4086, Average CER: 0.782973 Average WER: 0.5984\n\nTrain Epoch: 20 [0/100 (0%)]\tLoss: 2.383485\n\nevaluating...\nTest set: Average loss: 2.4016, Average CER: 0.775486 Average WER: 0.5969\n\n"
        }
      ],
      "execution_count": 22,
      "metadata": {
        "id": "K3pvzxRrBvF7",
        "colab": {
          "base_uri": "https://localhost:8080/"
        },
        "outputId": "214ff1a1-6d30-4f9a-9934-ab0587e1dda8",
        "gather": {
          "logged": 1636838829879
        }
      }
    },
    {
      "cell_type": "code",
      "source": [
        "import matplotlib.pyplot as plt\r\n",
        "import numpy as np\r\n",
        "epochs=[i for i in range(1,21)]\r\n",
        "y = losses\r\n",
        "x = epochs\r\n",
        "plt.xlabel(\"Epochs\") \r\n",
        "plt.ylabel(\"Loss\") \r\n",
        "plt.title(\"Loss Vs Epoch\") \r\n",
        "plt.plot(x, y) \r\n",
        "plt.xticks(x)\r\n",
        "plt.show()"
      ],
      "outputs": [
        {
          "output_type": "display_data",
          "data": {
            "text/plain": "<Figure size 432x288 with 1 Axes>",
            "image/png": "[encoded data removed]"
          },
          "metadata": {
            "needs_background": "light"
          }
        }
      ],
      "execution_count": 23,
      "metadata": {
        "jupyter": {
          "source_hidden": false,
          "outputs_hidden": false
        },
        "nteract": {
          "transient": {
            "deleting": false
          }
        },
        "gather": {
          "logged": 1636838830572
        }
      }
    },
    {
      "cell_type": "code",
      "source": [
        "import matplotlib.pyplot as plt\r\n",
        "import numpy as np\r\n",
        "epochs=[i for i in range(1,21)]\r\n",
        "y1 = word_error_rates\r\n",
        "y2= character_error_rates\r\n",
        "x = epochs\r\n",
        "plt.xlabel(\"Epochs\") \r\n",
        "plt.ylabel(\"Error Rate\") \r\n",
        "plt.title(\"Error Rates Vs Epoch\") \r\n",
        "plt.plot(x, y1,label='WER')\r\n",
        "plt.plot(x,y2,label='CER') \r\n",
        "plt.ylim(0.1,1.0)\r\n",
        "plt.xticks(x)\r\n",
        "plt.legend()\r\n",
        "plt.show()"
      ],
      "outputs": [
        {
          "output_type": "display_data",
          "data": {
            "text/plain": "<Figure size 432x288 with 1 Axes>",
            "image/png": "[encoded data removed]"
          },
          "metadata": {
            "needs_background": "light"
          }
        }
      ],
      "execution_count": 24,
      "metadata": {
        "jupyter": {
          "source_hidden": false,
          "outputs_hidden": false
        },
        "nteract": {
          "transient": {
            "deleting": false
          }
        },
        "gather": {
          "logged": 1636838831252
        }
      }
    },
    {
      "cell_type": "code",
      "source": [
        "params=loaded_model.state_dict()\n",
        "print(params.keys())"
      ],
      "outputs": [
        {
          "output_type": "stream",
          "name": "stdout",
          "text": "odict_keys(['cnn.weight', 'cnn.bias', 'rescnn_layers.0.cnn1.weight', 'rescnn_layers.0.cnn1.bias', 'rescnn_layers.0.cnn2.weight', 'rescnn_layers.0.cnn2.bias', 'rescnn_layers.0.layer_norm1.layer_norm.weight', 'rescnn_layers.0.layer_norm1.layer_norm.bias', 'rescnn_layers.0.layer_norm2.layer_norm.weight', 'rescnn_layers.0.layer_norm2.layer_norm.bias', 'rescnn_layers.1.cnn1.weight', 'rescnn_layers.1.cnn1.bias', 'rescnn_layers.1.cnn2.weight', 'rescnn_layers.1.cnn2.bias', 'rescnn_layers.1.layer_norm1.layer_norm.weight', 'rescnn_layers.1.layer_norm1.layer_norm.bias', 'rescnn_layers.1.layer_norm2.layer_norm.weight', 'rescnn_layers.1.layer_norm2.layer_norm.bias', 'rescnn_layers.2.cnn1.weight', 'rescnn_layers.2.cnn1.bias', 'rescnn_layers.2.cnn2.weight', 'rescnn_layers.2.cnn2.bias', 'rescnn_layers.2.layer_norm1.layer_norm.weight', 'rescnn_layers.2.layer_norm1.layer_norm.bias', 'rescnn_layers.2.layer_norm2.layer_norm.weight', 'rescnn_layers.2.layer_norm2.layer_norm.bias', 'fully_connected.weight', 'fully_connected.bias', 'birnn_layers.0.BiGRU.weight_ih_l0', 'birnn_layers.0.BiGRU.weight_hh_l0', 'birnn_layers.0.BiGRU.bias_ih_l0', 'birnn_layers.0.BiGRU.bias_hh_l0', 'birnn_layers.0.BiGRU.weight_ih_l0_reverse', 'birnn_layers.0.BiGRU.weight_hh_l0_reverse', 'birnn_layers.0.BiGRU.bias_ih_l0_reverse', 'birnn_layers.0.BiGRU.bias_hh_l0_reverse', 'birnn_layers.0.layer_norm.weight', 'birnn_layers.0.layer_norm.bias', 'birnn_layers.1.BiGRU.weight_ih_l0', 'birnn_layers.1.BiGRU.weight_hh_l0', 'birnn_layers.1.BiGRU.bias_ih_l0', 'birnn_layers.1.BiGRU.bias_hh_l0', 'birnn_layers.1.BiGRU.weight_ih_l0_reverse', 'birnn_layers.1.BiGRU.weight_hh_l0_reverse', 'birnn_layers.1.BiGRU.bias_ih_l0_reverse', 'birnn_layers.1.BiGRU.bias_hh_l0_reverse', 'birnn_layers.1.layer_norm.weight', 'birnn_layers.1.layer_norm.bias', 'birnn_layers.2.BiGRU.weight_ih_l0', 'birnn_layers.2.BiGRU.weight_hh_l0', 'birnn_layers.2.BiGRU.bias_ih_l0', 'birnn_layers.2.BiGRU.bias_hh_l0', 'birnn_layers.2.BiGRU.weight_ih_l0_reverse', 'birnn_layers.2.BiGRU.weight_hh_l0_reverse', 'birnn_layers.2.BiGRU.bias_ih_l0_reverse', 'birnn_layers.2.BiGRU.bias_hh_l0_reverse', 'birnn_layers.2.layer_norm.weight', 'birnn_layers.2.layer_norm.bias', 'birnn_layers.3.BiGRU.weight_ih_l0', 'birnn_layers.3.BiGRU.weight_hh_l0', 'birnn_layers.3.BiGRU.bias_ih_l0', 'birnn_layers.3.BiGRU.bias_hh_l0', 'birnn_layers.3.BiGRU.weight_ih_l0_reverse', 'birnn_layers.3.BiGRU.weight_hh_l0_reverse', 'birnn_layers.3.BiGRU.bias_ih_l0_reverse', 'birnn_layers.3.BiGRU.bias_hh_l0_reverse', 'birnn_layers.3.layer_norm.weight', 'birnn_layers.3.layer_norm.bias', 'birnn_layers.4.BiGRU.weight_ih_l0', 'birnn_layers.4.BiGRU.weight_hh_l0', 'birnn_layers.4.BiGRU.bias_ih_l0', 'birnn_layers.4.BiGRU.bias_hh_l0', 'birnn_layers.4.BiGRU.weight_ih_l0_reverse', 'birnn_layers.4.BiGRU.weight_hh_l0_reverse', 'birnn_layers.4.BiGRU.bias_ih_l0_reverse', 'birnn_layers.4.BiGRU.bias_hh_l0_reverse', 'birnn_layers.4.layer_norm.weight', 'birnn_layers.4.layer_norm.bias', 'classifier.0.weight', 'classifier.0.bias', 'classifier.3.weight', 'classifier.3.bias'])\n"
        }
      ],
      "execution_count": 25,
      "metadata": {
        "colab": {
          "base_uri": "https://localhost:8080/"
        },
        "id": "PX1-zLBXBI3H",
        "outputId": "cc7eca70-0b48-4e60-ce3f-13b463a57e97",
        "gather": {
          "logged": 1636838831696
        }
      }
    },
    {
      "cell_type": "code",
      "source": [
        "losses=[]\n",
        "character_error_rates=[]\n",
        "word_error_rates=[]\n",
        "def transfer_learning(pre_trained_model):\n",
        "  learning_rate = 5e-4\n",
        "  batch_size = 5\n",
        "  epochs = 20\n",
        "  params=loaded_model.state_dict()\n",
        "  loaded_model.cnn.weight.requires_grad=False\n",
        "  loaded_model.rescnn_layers[0].cnn1.weight.requires_grad=False\n",
        "  loaded_model.rescnn_layers[0].cnn2.weight.requires_grad=False\n",
        "  loaded_model.rescnn_layers[0].layer_norm1.layer_norm.weight.requires_grad=False\n",
        "  loaded_model.rescnn_layers[0].layer_norm2.layer_norm.weight.requires_grad=False\n",
        "  loaded_model.rescnn_layers[1].cnn1.weight.requires_grad=False\n",
        "  loaded_model.rescnn_layers[1].cnn2.weight.requires_grad=False\n",
        "  hparams = {\"n_cnn_layers\": 3,\"n_rnn_layers\": 5,\"rnn_dim\": 512,\"n_class\": 29,\"n_feats\": 128,\"stride\":2,\"dropout\": 0.1,\"learning_rate\": learning_rate,\"batch_size\": batch_size,\"epochs\": epochs}\n",
        "  opti = optim.AdamW(pre_trained_model.parameters(), hparams['learning_rate'])\n",
        "  crit = nn.CTCLoss(blank=28).to(device)\n",
        "  sche = optim.lr_scheduler.OneCycleLR(opti, max_lr=hparams['learning_rate'], steps_per_epoch=int(len(trainDataLoderSlurred)),epochs=hparams['epochs'],anneal_strategy='linear')\n",
        "  iter = IterMeter()\n",
        "\n",
        "  for epoch in range(1, epochs+1):\n",
        "    train_transfer_learning(pre_trained_model, device, trainDataLoderSlurred, crit, opti, sche, epoch, iter)\n",
        "    test_transfer_learning(pre_trained_model, device, testDataLoaderSlurred, crit, epoch, iter,losses,character_error_rates,word_error_rates)\n",
        "\n",
        "transfer_learning(loaded_model)\n",
        "\n"
      ],
      "outputs": [
        {
          "output_type": "stream",
          "name": "stdout",
          "text": "Train Epoch: 1 [0/100 (0%)]\tLoss: 1.864772\n\nevaluating...\nTest set: Average loss: 1.6022, Average CER: 0.572857 Average WER: 0.5555\n\nTrain Epoch: 2 [0/100 (0%)]\tLoss: 1.887678\n\nevaluating...\nTest set: Average loss: 1.5723, Average CER: 0.562320 Average WER: 0.5451\n\nTrain Epoch: 3 [0/100 (0%)]\tLoss: 1.814427\n\nevaluating...\nTest set: Average loss: 1.5656, Average CER: 0.545946 Average WER: 0.5382\n\nTrain Epoch: 4 [0/100 (0%)]\tLoss: 1.839112\n\nevaluating...\nTest set: Average loss: 1.5445, Average CER: 0.535481 Average WER: 0.5231\n\nTrain Epoch: 5 [0/100 (0%)]\tLoss: 1.845530\n\nevaluating...\nTest set: Average loss: 1.5753, Average CER: 0.540834 Average WER: 0.5325\n\nTrain Epoch: 6 [0/100 (0%)]\tLoss: 1.869236\n\nevaluating...\nTest set: Average loss: 1.5143, Average CER: 0.551184 Average WER: 0.5375\n\nTrain Epoch: 7 [0/100 (0%)]\tLoss: 1.767977\n\nevaluating...\nTest set: Average loss: 1.5351, Average CER: 0.516780 Average WER: 0.5047\n\nTrain Epoch: 8 [0/100 (0%)]\tLoss: 1.895965\n\nevaluating...\nTest set: Average loss: 1.4585, Average CER: 0.549779 Average WER: 0.5279\n\nTrain Epoch: 9 [0/100 (0%)]\tLoss: 1.865649\n\nevaluating...\nTest set: Average loss: 1.3912, Average CER: 0.512500 Average WER: 0.5015\n\nTrain Epoch: 10 [0/100 (0%)]\tLoss: 1.702733\n\nevaluating...\nTest set: Average loss: 1.3189, Average CER: 0.480789 Average WER: 0.4724\n\nTrain Epoch: 11 [0/100 (0%)]\tLoss: 1.694663\n\nevaluating...\nTest set: Average loss: 1.2758, Average CER: 0.473744 Average WER: 0.4546\n\nTrain Epoch: 12 [0/100 (0%)]\tLoss: 1.660164\n\nevaluating...\nTest set: Average loss: 1.2207, Average CER: 0.455950 Average WER: 0.4346\n\nTrain Epoch: 13 [0/100 (0%)]\tLoss: 1.610073\n\nevaluating...\nTest set: Average loss: 1.1918, Average CER: 0.452035 Average WER: 0.4223\n\nTrain Epoch: 14 [0/100 (0%)]\tLoss: 1.550652\n\nevaluating...\nTest set: Average loss: 1.1358, Average CER: 0.432104 Average WER: 0.4135\n\nTrain Epoch: 15 [0/100 (0%)]\tLoss: 1.537621\n\nevaluating...\nTest set: Average loss: 1.0932, Average CER: 0.416451 Average WER: 0.3932\n\nTrain Epoch: 16 [0/100 (0%)]\tLoss: 1.478765\n\nevaluating...\nTest set: Average loss: 1.0066, Average CER: 0.417457 Average WER: 0.4074\n\nTrain Epoch: 17 [0/100 (0%)]\tLoss: 1.407414\n\nevaluating...\nTest set: Average loss: 0.9941, Average CER: 0.415986 Average WER: 0.4157\n\nTrain Epoch: 18 [0/100 (0%)]\tLoss: 1.403536\n\nevaluating...\nTest set: Average loss: 0.9404, Average CER: 0.398596 Average WER: 0.3814\n\nTrain Epoch: 19 [0/100 (0%)]\tLoss: 1.333327\n\nevaluating...\nTest set: Average loss: 0.9225, Average CER: 0.390811 Average WER: 0.3845\n\nTrain Epoch: 20 [0/100 (0%)]\tLoss: 1.384933\n\nevaluating...\nTest set: Average loss: 0.9164, Average CER: 0.389207 Average WER: 0.3839\n\n"
        }
      ],
      "execution_count": 31,
      "metadata": {
        "colab": {
          "base_uri": "https://localhost:8080/"
        },
        "id": "oDR-tXqi2j0N",
        "outputId": "b25952fd-175a-4a0e-83ff-d6e92aa20ee3",
        "gather": {
          "logged": 1636840775129
        }
      }
    },
    {
      "cell_type": "code",
      "source": [
        "import matplotlib.pyplot as plt\n",
        "import numpy as np\n",
        "epochs=[i for i in range(1,21)]\n",
        "y = losses\n",
        "x = epochs\n",
        "plt.xlabel(\"Epochs\") \n",
        "plt.ylabel(\"Loss\") \n",
        "plt.title(\"Loss Vs Epoch\") \n",
        "plt.plot(x, y) \n",
        "plt.xticks(x)\n",
        "plt.show()"
      ],
      "outputs": [
        {
          "output_type": "display_data",
          "data": {
            "text/plain": "<Figure size 432x288 with 1 Axes>",
            "image/png": "[encoded data removed]"
          },
          "metadata": {
            "needs_background": "light"
          }
        }
      ],
      "execution_count": 32,
      "metadata": {
        "id": "8bTqmSurwWol",
        "colab": {
          "base_uri": "https://localhost:8080/",
          "height": 294
        },
        "outputId": "7ff397b3-768f-4dad-9fb6-194599b57932",
        "gather": {
          "logged": 1636840840903
        }
      }
    },
    {
      "cell_type": "code",
      "source": [
        "import matplotlib.pyplot as plt\n",
        "import numpy as np\n",
        "epochs=[i for i in range(1,21)]\n",
        "y1 = word_error_rates\n",
        "y2=character_error_rates\n",
        "x = epochs\n",
        "plt.xlabel(\"Epochs\") \n",
        "plt.ylabel(\"Error Rate\") \n",
        "plt.title(\"Error Rates Vs Epoch\") \n",
        "plt.plot(x, y1,label='WER')\n",
        "plt.plot(x,y2,label='CER') \n",
        "plt.ylim(0.3,0.65)\n",
        "plt.xticks(x)\n",
        "plt.legend()\n",
        "plt.show()"
      ],
      "outputs": [
        {
          "output_type": "display_data",
          "data": {
            "text/plain": "<Figure size 432x288 with 1 Axes>",
            "image/png": "[encoded data removed]"
          },
          "metadata": {
            "needs_background": "light"
          }
        }
      ],
      "execution_count": 35,
      "metadata": {
        "colab": {
          "base_uri": "https://localhost:8080/",
          "height": 294
        },
        "id": "nI-2BlNQfdKI",
        "outputId": "602d8b56-9425-4a2d-8053-76472ea58ceb",
        "gather": {
          "logged": 1636840884343
        }
      }
    },
    {
      "cell_type": "markdown",
      "source": [
        "# Generating Transcript of single audio file using Trained model"
      ],
      "metadata": {
        "nteract": {
          "transient": {
            "deleting": false
          }
        }
      }
    },
    {
      "cell_type": "code",
      "source": [
        "class custom_TestDataset_class(Dataset): \r\n",
        "    _ext_txt = \".trans.txt\"\r\n",
        "    _ext_audio = \".flac\"\r\n",
        "    def __init__(self):\r\n",
        "        self._path=\"path to test data folder\"\r\n",
        "        self._walker=[] # list of audio file names\r\n",
        "    def __getitem__(self, n):\r\n",
        "        fileid = self._walker[n]\r\n",
        "        return load_librispeech_item(fileid, self._path, self._ext_audio, self._ext_txt)\r\n",
        "\r\n",
        "    def __len__(self):\r\n",
        "        return len(self._walker)   \r\n",
        "    \r\n",
        "    \r\n",
        "single_audio_dataloader=custom_TestDataset_class()"
      ],
      "outputs": [],
      "execution_count": 36,
      "metadata": {
        "id": "VK8p0AzafdTB",
        "gather": {
          "logged": 1636840895015
        }
      }
    },
    {
      "cell_type": "code",
      "source": [
        "def single_audio_test(model, device, test_loader, iter_meter):\r\n",
        "    model.eval()\r\n",
        "    with torch.no_grad():\r\n",
        "        for i, _data in enumerate(test_loader):\r\n",
        "            spectrograms, labels, input_lengths, label_lengths = _data \r\n",
        "            spectrograms, labels = spectrograms.to(device), labels.to(device)\r\n",
        "            output = model(spectrograms)  \r\n",
        "            output = F.log_softmax(output, dim=2)\r\n",
        "            output = output.transpose(0, 1)\r\n",
        "            decoded_preds, decoded_targets = GreedyDecoder(output.transpose(0, 1), labels, label_lengths)\r\n",
        "            print(decoded_preds)\r\n",
        "\r\n",
        "single_audio_test(loaded_model, device, single_audio_dataloader, iter)\r\n",
        "\r\n",
        "\r\n"
      ],
      "outputs": [],
      "execution_count": 37,
      "metadata": {
        "jupyter": {
          "source_hidden": false,
          "outputs_hidden": false
        },
        "nteract": {
          "transient": {
            "deleting": false
          }
        },
        "gather": {
          "logged": 1636840897634
        }
      }
    }
  ],
  "metadata": {
    "colab": {
      "name": "BTP Part2.ipynb",
      "provenance": [],
      "collapsed_sections": []
    },
    "kernelspec": {
      "name": "python3",
      "language": "python",
      "display_name": "Python 3"
    },
    "language_info": {
      "name": "python",
      "version": "3.6.9",
      "mimetype": "text/x-python",
      "codemirror_mode": {
        "name": "ipython",
        "version": 3
      },
      "pygments_lexer": "ipython3",
      "nbconvert_exporter": "python",
      "file_extension": ".py"
    },
    "widgets": {
      "application/vnd.jupyter.widget-state+json": {
        "19309069f93d432bab123c28de5429d4": {
          "model_module": "@jupyter-widgets/controls",
          "model_name": "DescriptionStyleModel",
          "model_module_version": "1.5.0",
          "state": {
            "_view_name": "StyleView",
            "_model_name": "DescriptionStyleModel",
            "description_width": "",
            "_view_module": "@jupyter-widgets/base",
            "_model_module_version": "1.5.0",
            "_view_count": null,
            "_view_module_version": "1.2.0",
            "_model_module": "@jupyter-widgets/controls"
          }
        },
        "973afb9d80db4dcc9d86656caf556d56": {
          "model_module": "@jupyter-widgets/controls",
          "model_name": "DescriptionStyleModel",
          "model_module_version": "1.5.0",
          "state": {
            "_view_name": "StyleView",
            "_model_name": "DescriptionStyleModel",
            "description_width": "",
            "_view_module": "@jupyter-widgets/base",
            "_model_module_version": "1.5.0",
            "_view_count": null,
            "_view_module_version": "1.2.0",
            "_model_module": "@jupyter-widgets/controls"
          }
        },
        "a828000f84844da48e7a5bd4bedae62a": {
          "model_module": "@jupyter-widgets/base",
          "model_name": "LayoutModel",
          "model_module_version": "1.2.0",
          "state": {
            "_view_module_version": "1.2.0",
            "_model_name": "LayoutModel",
            "grid_row": null,
            "_model_module": "@jupyter-widgets/base",
            "overflow": null,
            "max_height": null,
            "display": null,
            "grid_auto_flow": null,
            "grid_template_rows": null,
            "align_self": null,
            "grid_auto_columns": null,
            "width": null,
            "grid_area": null,
            "align_items": null,
            "_view_name": "LayoutView",
            "left": null,
            "height": null,
            "_view_module": "@jupyter-widgets/base",
            "object_position": null,
            "justify_content": null,
            "bottom": null,
            "max_width": null,
            "border": null,
            "margin": null,
            "order": null,
            "grid_column": null,
            "grid_auto_rows": null,
            "padding": null,
            "grid_template_columns": null,
            "justify_items": null,
            "object_fit": null,
            "visibility": null,
            "_view_count": null,
            "flex_flow": null,
            "min_height": null,
            "top": null,
            "min_width": null,
            "flex": null,
            "_model_module_version": "1.2.0",
            "grid_template_areas": null,
            "overflow_x": null,
            "right": null,
            "overflow_y": null,
            "grid_gap": null,
            "align_content": null
          }
        },
        "3c387c58e81f4ca4b85bc384ad108816": {
          "model_module": "@jupyter-widgets/controls",
          "model_name": "HTMLModel",
          "model_module_version": "1.5.0",
          "state": {
            "_view_module_version": "1.5.0",
            "description_tooltip": null,
            "_model_name": "HTMLModel",
            "_model_module": "@jupyter-widgets/controls",
            "_view_name": "HTMLView",
            "_view_module": "@jupyter-widgets/controls",
            "_dom_classes": [],
            "layout": "IPY_MODEL_2fb1a9f41d94473f8280e568b5164c20",
            "value": "100%",
            "style": "IPY_MODEL_973afb9d80db4dcc9d86656caf556d56",
            "placeholder": "​",
            "_view_count": null,
            "_model_module_version": "1.5.0",
            "description": ""
          }
        },
        "e99a213eaa854b038ff3dc70f293885f": {
          "model_module": "@jupyter-widgets/controls",
          "model_name": "HTMLModel",
          "model_module_version": "1.5.0",
          "state": {
            "_view_module_version": "1.5.0",
            "description_tooltip": null,
            "_model_name": "HTMLModel",
            "_model_module": "@jupyter-widgets/controls",
            "_view_name": "HTMLView",
            "_view_module": "@jupyter-widgets/controls",
            "_dom_classes": [],
            "layout": "IPY_MODEL_e37227a1c83940a0a250308d24ee4eb0",
            "value": " 5.95G/5.95G [05:08&lt;00:00, 26.3MB/s]",
            "style": "IPY_MODEL_ba235650ac274df6b1fd30e375b29adc",
            "placeholder": "​",
            "_view_count": null,
            "_model_module_version": "1.5.0",
            "description": ""
          }
        },
        "40256473f4224868a8fe75bb898f8141": {
          "model_module": "@jupyter-widgets/base",
          "model_name": "LayoutModel",
          "model_module_version": "1.2.0",
          "state": {
            "_view_module_version": "1.2.0",
            "_model_name": "LayoutModel",
            "grid_row": null,
            "_model_module": "@jupyter-widgets/base",
            "overflow": null,
            "max_height": null,
            "display": null,
            "grid_auto_flow": null,
            "grid_template_rows": null,
            "align_self": null,
            "grid_auto_columns": null,
            "width": null,
            "grid_area": null,
            "align_items": null,
            "_view_name": "LayoutView",
            "left": null,
            "height": null,
            "_view_module": "@jupyter-widgets/base",
            "object_position": null,
            "justify_content": null,
            "bottom": null,
            "max_width": null,
            "border": null,
            "margin": null,
            "order": null,
            "grid_column": null,
            "grid_auto_rows": null,
            "padding": null,
            "grid_template_columns": null,
            "justify_items": null,
            "object_fit": null,
            "visibility": null,
            "_view_count": null,
            "flex_flow": null,
            "min_height": null,
            "top": null,
            "min_width": null,
            "flex": null,
            "_model_module_version": "1.2.0",
            "grid_template_areas": null,
            "overflow_x": null,
            "right": null,
            "overflow_y": null,
            "grid_gap": null,
            "align_content": null
          }
        },
        "1796782785fc4eb88094ff9a8af70811": {
          "model_module": "@jupyter-widgets/controls",
          "model_name": "HBoxModel",
          "model_module_version": "1.5.0",
          "state": {
            "_view_module_version": "1.5.0",
            "_model_name": "HBoxModel",
            "_model_module": "@jupyter-widgets/controls",
            "_view_name": "HBoxView",
            "_view_module": "@jupyter-widgets/controls",
            "_dom_classes": [],
            "layout": "IPY_MODEL_a9de55cd901442b0867be3fe7d8d7976",
            "_view_count": null,
            "_model_module_version": "1.5.0",
            "box_style": "",
            "children": [
              "IPY_MODEL_9d0ff0d587b2487aa25c04f1a2171793",
              "IPY_MODEL_ccc60b9dcd734bdca18a62685682ed06",
              "IPY_MODEL_e99a213eaa854b038ff3dc70f293885f"
            ]
          }
        },
        "71d278d66af741e19aa1b6ef63acfb56": {
          "model_module": "@jupyter-widgets/controls",
          "model_name": "FloatProgressModel",
          "model_module_version": "1.5.0",
          "state": {
            "_view_module_version": "1.5.0",
            "description_tooltip": null,
            "_model_name": "FloatProgressModel",
            "_model_module": "@jupyter-widgets/controls",
            "max": 346663984,
            "bar_style": "success",
            "_view_name": "ProgressView",
            "_view_module": "@jupyter-widgets/controls",
            "_dom_classes": [],
            "layout": "IPY_MODEL_a828000f84844da48e7a5bd4bedae62a",
            "orientation": "horizontal",
            "value": 346663984,
            "style": "IPY_MODEL_aa2aeb501cee40f88b985d85bf196a61",
            "min": 0,
            "_view_count": null,
            "_model_module_version": "1.5.0",
            "description": ""
          }
        },
        "6e33f740de1d4a1ea2aaf5841cf7bb83": {
          "model_module": "@jupyter-widgets/base",
          "model_name": "LayoutModel",
          "model_module_version": "1.2.0",
          "state": {
            "_view_module_version": "1.2.0",
            "_model_name": "LayoutModel",
            "grid_row": null,
            "_model_module": "@jupyter-widgets/base",
            "overflow": null,
            "max_height": null,
            "display": null,
            "grid_auto_flow": null,
            "grid_template_rows": null,
            "align_self": null,
            "grid_auto_columns": null,
            "width": null,
            "grid_area": null,
            "align_items": null,
            "_view_name": "LayoutView",
            "left": null,
            "height": null,
            "_view_module": "@jupyter-widgets/base",
            "object_position": null,
            "justify_content": null,
            "bottom": null,
            "max_width": null,
            "border": null,
            "margin": null,
            "order": null,
            "grid_column": null,
            "grid_auto_rows": null,
            "padding": null,
            "grid_template_columns": null,
            "justify_items": null,
            "object_fit": null,
            "visibility": null,
            "_view_count": null,
            "flex_flow": null,
            "min_height": null,
            "top": null,
            "min_width": null,
            "flex": null,
            "_model_module_version": "1.2.0",
            "grid_template_areas": null,
            "overflow_x": null,
            "right": null,
            "overflow_y": null,
            "grid_gap": null,
            "align_content": null
          }
        },
        "dd1851aa7a7e413aa2558b556a219eb9": {
          "model_module": "@jupyter-widgets/base",
          "model_name": "LayoutModel",
          "model_module_version": "1.2.0",
          "state": {
            "_view_module_version": "1.2.0",
            "_model_name": "LayoutModel",
            "grid_row": null,
            "_model_module": "@jupyter-widgets/base",
            "overflow": null,
            "max_height": null,
            "display": null,
            "grid_auto_flow": null,
            "grid_template_rows": null,
            "align_self": null,
            "grid_auto_columns": null,
            "width": null,
            "grid_area": null,
            "align_items": null,
            "_view_name": "LayoutView",
            "left": null,
            "height": null,
            "_view_module": "@jupyter-widgets/base",
            "object_position": null,
            "justify_content": null,
            "bottom": null,
            "max_width": null,
            "border": null,
            "margin": null,
            "order": null,
            "grid_column": null,
            "grid_auto_rows": null,
            "padding": null,
            "grid_template_columns": null,
            "justify_items": null,
            "object_fit": null,
            "visibility": null,
            "_view_count": null,
            "flex_flow": null,
            "min_height": null,
            "top": null,
            "min_width": null,
            "flex": null,
            "_model_module_version": "1.2.0",
            "grid_template_areas": null,
            "overflow_x": null,
            "right": null,
            "overflow_y": null,
            "grid_gap": null,
            "align_content": null
          }
        },
        "aa2aeb501cee40f88b985d85bf196a61": {
          "model_module": "@jupyter-widgets/controls",
          "model_name": "ProgressStyleModel",
          "model_module_version": "1.5.0",
          "state": {
            "_view_module_version": "1.2.0",
            "_model_name": "ProgressStyleModel",
            "_model_module": "@jupyter-widgets/controls",
            "description_width": "",
            "_view_name": "StyleView",
            "_view_module": "@jupyter-widgets/base",
            "_view_count": null,
            "bar_color": null,
            "_model_module_version": "1.5.0"
          }
        },
        "568024ac4dee40fb9830bc1150ba9040": {
          "model_module": "@jupyter-widgets/controls",
          "model_name": "HTMLModel",
          "model_module_version": "1.5.0",
          "state": {
            "_view_module_version": "1.5.0",
            "description_tooltip": null,
            "_model_name": "HTMLModel",
            "_model_module": "@jupyter-widgets/controls",
            "_view_name": "HTMLView",
            "_view_module": "@jupyter-widgets/controls",
            "_dom_classes": [],
            "layout": "IPY_MODEL_ddd57519309745ee934c025e00087c4a",
            "value": " 331M/331M [00:14&lt;00:00, 27.7MB/s]",
            "style": "IPY_MODEL_9d2ade5ab8a8427f98139961863b4da8",
            "placeholder": "​",
            "_view_count": null,
            "_model_module_version": "1.5.0",
            "description": ""
          }
        },
        "ddd57519309745ee934c025e00087c4a": {
          "model_module": "@jupyter-widgets/base",
          "model_name": "LayoutModel",
          "model_module_version": "1.2.0",
          "state": {
            "_view_module_version": "1.2.0",
            "_model_name": "LayoutModel",
            "grid_row": null,
            "_model_module": "@jupyter-widgets/base",
            "overflow": null,
            "max_height": null,
            "display": null,
            "grid_auto_flow": null,
            "grid_template_rows": null,
            "align_self": null,
            "grid_auto_columns": null,
            "width": null,
            "grid_area": null,
            "align_items": null,
            "_view_name": "LayoutView",
            "left": null,
            "height": null,
            "_view_module": "@jupyter-widgets/base",
            "object_position": null,
            "justify_content": null,
            "bottom": null,
            "max_width": null,
            "border": null,
            "margin": null,
            "order": null,
            "grid_column": null,
            "grid_auto_rows": null,
            "padding": null,
            "grid_template_columns": null,
            "justify_items": null,
            "object_fit": null,
            "visibility": null,
            "_view_count": null,
            "flex_flow": null,
            "min_height": null,
            "top": null,
            "min_width": null,
            "flex": null,
            "_model_module_version": "1.2.0",
            "grid_template_areas": null,
            "overflow_x": null,
            "right": null,
            "overflow_y": null,
            "grid_gap": null,
            "align_content": null
          }
        },
        "a9de55cd901442b0867be3fe7d8d7976": {
          "model_module": "@jupyter-widgets/base",
          "model_name": "LayoutModel",
          "model_module_version": "1.2.0",
          "state": {
            "_view_module_version": "1.2.0",
            "_model_name": "LayoutModel",
            "grid_row": null,
            "_model_module": "@jupyter-widgets/base",
            "overflow": null,
            "max_height": null,
            "display": null,
            "grid_auto_flow": null,
            "grid_template_rows": null,
            "align_self": null,
            "grid_auto_columns": null,
            "width": null,
            "grid_area": null,
            "align_items": null,
            "_view_name": "LayoutView",
            "left": null,
            "height": null,
            "_view_module": "@jupyter-widgets/base",
            "object_position": null,
            "justify_content": null,
            "bottom": null,
            "max_width": null,
            "border": null,
            "margin": null,
            "order": null,
            "grid_column": null,
            "grid_auto_rows": null,
            "padding": null,
            "grid_template_columns": null,
            "justify_items": null,
            "object_fit": null,
            "visibility": null,
            "_view_count": null,
            "flex_flow": null,
            "min_height": null,
            "top": null,
            "min_width": null,
            "flex": null,
            "_model_module_version": "1.2.0",
            "grid_template_areas": null,
            "overflow_x": null,
            "right": null,
            "overflow_y": null,
            "grid_gap": null,
            "align_content": null
          }
        },
        "ba235650ac274df6b1fd30e375b29adc": {
          "model_module": "@jupyter-widgets/controls",
          "model_name": "DescriptionStyleModel",
          "model_module_version": "1.5.0",
          "state": {
            "_view_name": "StyleView",
            "_model_name": "DescriptionStyleModel",
            "description_width": "",
            "_view_module": "@jupyter-widgets/base",
            "_model_module_version": "1.5.0",
            "_view_count": null,
            "_view_module_version": "1.2.0",
            "_model_module": "@jupyter-widgets/controls"
          }
        },
        "ccc60b9dcd734bdca18a62685682ed06": {
          "model_module": "@jupyter-widgets/controls",
          "model_name": "FloatProgressModel",
          "model_module_version": "1.5.0",
          "state": {
            "_view_module_version": "1.5.0",
            "description_tooltip": null,
            "_model_name": "FloatProgressModel",
            "_model_module": "@jupyter-widgets/controls",
            "max": 6387309499,
            "bar_style": "success",
            "_view_name": "ProgressView",
            "_view_module": "@jupyter-widgets/controls",
            "_dom_classes": [],
            "layout": "IPY_MODEL_40256473f4224868a8fe75bb898f8141",
            "orientation": "horizontal",
            "value": 6387309499,
            "style": "IPY_MODEL_0cff7588dbaf4782a98c1cb585d09c8f",
            "min": 0,
            "_view_count": null,
            "_model_module_version": "1.5.0",
            "description": ""
          }
        },
        "9d2ade5ab8a8427f98139961863b4da8": {
          "model_module": "@jupyter-widgets/controls",
          "model_name": "DescriptionStyleModel",
          "model_module_version": "1.5.0",
          "state": {
            "_view_name": "StyleView",
            "_model_name": "DescriptionStyleModel",
            "description_width": "",
            "_view_module": "@jupyter-widgets/base",
            "_model_module_version": "1.5.0",
            "_view_count": null,
            "_view_module_version": "1.2.0",
            "_model_module": "@jupyter-widgets/controls"
          }
        },
        "ba2d2eb8c23d4093949053998458e338": {
          "model_module": "@jupyter-widgets/controls",
          "model_name": "HBoxModel",
          "model_module_version": "1.5.0",
          "state": {
            "_view_module_version": "1.5.0",
            "_model_name": "HBoxModel",
            "_model_module": "@jupyter-widgets/controls",
            "_view_name": "HBoxView",
            "_view_module": "@jupyter-widgets/controls",
            "_dom_classes": [],
            "layout": "IPY_MODEL_dd1851aa7a7e413aa2558b556a219eb9",
            "_view_count": null,
            "_model_module_version": "1.5.0",
            "box_style": "",
            "children": [
              "IPY_MODEL_3c387c58e81f4ca4b85bc384ad108816",
              "IPY_MODEL_71d278d66af741e19aa1b6ef63acfb56",
              "IPY_MODEL_568024ac4dee40fb9830bc1150ba9040"
            ]
          }
        },
        "2fb1a9f41d94473f8280e568b5164c20": {
          "model_module": "@jupyter-widgets/base",
          "model_name": "LayoutModel",
          "model_module_version": "1.2.0",
          "state": {
            "_view_module_version": "1.2.0",
            "_model_name": "LayoutModel",
            "grid_row": null,
            "_model_module": "@jupyter-widgets/base",
            "overflow": null,
            "max_height": null,
            "display": null,
            "grid_auto_flow": null,
            "grid_template_rows": null,
            "align_self": null,
            "grid_auto_columns": null,
            "width": null,
            "grid_area": null,
            "align_items": null,
            "_view_name": "LayoutView",
            "left": null,
            "height": null,
            "_view_module": "@jupyter-widgets/base",
            "object_position": null,
            "justify_content": null,
            "bottom": null,
            "max_width": null,
            "border": null,
            "margin": null,
            "order": null,
            "grid_column": null,
            "grid_auto_rows": null,
            "padding": null,
            "grid_template_columns": null,
            "justify_items": null,
            "object_fit": null,
            "visibility": null,
            "_view_count": null,
            "flex_flow": null,
            "min_height": null,
            "top": null,
            "min_width": null,
            "flex": null,
            "_model_module_version": "1.2.0",
            "grid_template_areas": null,
            "overflow_x": null,
            "right": null,
            "overflow_y": null,
            "grid_gap": null,
            "align_content": null
          }
        },
        "0cff7588dbaf4782a98c1cb585d09c8f": {
          "model_module": "@jupyter-widgets/controls",
          "model_name": "ProgressStyleModel",
          "model_module_version": "1.5.0",
          "state": {
            "_view_module_version": "1.2.0",
            "_model_name": "ProgressStyleModel",
            "_model_module": "@jupyter-widgets/controls",
            "description_width": "",
            "_view_name": "StyleView",
            "_view_module": "@jupyter-widgets/base",
            "_view_count": null,
            "bar_color": null,
            "_model_module_version": "1.5.0"
          }
        },
        "e37227a1c83940a0a250308d24ee4eb0": {
          "model_module": "@jupyter-widgets/base",
          "model_name": "LayoutModel",
          "model_module_version": "1.2.0",
          "state": {
            "_view_module_version": "1.2.0",
            "_model_name": "LayoutModel",
            "grid_row": null,
            "_model_module": "@jupyter-widgets/base",
            "overflow": null,
            "max_height": null,
            "display": null,
            "grid_auto_flow": null,
            "grid_template_rows": null,
            "align_self": null,
            "grid_auto_columns": null,
            "width": null,
            "grid_area": null,
            "align_items": null,
            "_view_name": "LayoutView",
            "left": null,
            "height": null,
            "_view_module": "@jupyter-widgets/base",
            "object_position": null,
            "justify_content": null,
            "bottom": null,
            "max_width": null,
            "border": null,
            "margin": null,
            "order": null,
            "grid_column": null,
            "grid_auto_rows": null,
            "padding": null,
            "grid_template_columns": null,
            "justify_items": null,
            "object_fit": null,
            "visibility": null,
            "_view_count": null,
            "flex_flow": null,
            "min_height": null,
            "top": null,
            "min_width": null,
            "flex": null,
            "_model_module_version": "1.2.0",
            "grid_template_areas": null,
            "overflow_x": null,
            "right": null,
            "overflow_y": null,
            "grid_gap": null,
            "align_content": null
          }
        },
        "9d0ff0d587b2487aa25c04f1a2171793": {
          "model_module": "@jupyter-widgets/controls",
          "model_name": "HTMLModel",
          "model_module_version": "1.5.0",
          "state": {
            "_view_module_version": "1.5.0",
            "description_tooltip": null,
            "_model_name": "HTMLModel",
            "_model_module": "@jupyter-widgets/controls",
            "_view_name": "HTMLView",
            "_view_module": "@jupyter-widgets/controls",
            "_dom_classes": [],
            "layout": "IPY_MODEL_6e33f740de1d4a1ea2aaf5841cf7bb83",
            "value": "100%",
            "style": "IPY_MODEL_19309069f93d432bab123c28de5429d4",
            "placeholder": "​",
            "_view_count": null,
            "_model_module_version": "1.5.0",
            "description": ""
          }
        }
      }
    },
    "kernel_info": {
      "name": "python3"
    },
    "nteract": {
      "version": "nteract-front-end@1.0.0"
    },
    "microsoft": {
      "host": {
        "AzureML": {
          "notebookHasBeenCompleted": true
        }
      }
    }
  },
  "nbformat": 4,
  "nbformat_minor": 0
}