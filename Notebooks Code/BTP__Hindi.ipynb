{
  "nbformat": 4,
  "nbformat_minor": 0,
  "metadata": {
    "colab": {
      "name": "BTP _Hindi.ipynb",
      "provenance": [],
      "collapsed_sections": []
    },
    "kernel_info": {
      "name": "python3"
    },
    "kernelspec": {
      "display_name": "Python 3",
      "language": "python",
      "name": "python3"
    },
    "language_info": {
      "codemirror_mode": {
        "name": "ipython",
        "version": 3
      },
      "file_extension": ".py",
      "mimetype": "text/x-python",
      "name": "python",
      "nbconvert_exporter": "python",
      "pygments_lexer": "ipython3",
      "version": "3.6.9"
    },
    "microsoft": {
      "host": {
        "AzureML": {
          "notebookHasBeenCompleted": true
        }
      }
    },
    "nteract": {
      "version": "nteract-front-end@1.0.0"
    }
  },
  "cells": [
    {
      "cell_type": "code",
      "metadata": {
        "colab": {
          "base_uri": "https://localhost:8080/"
        },
        "gather": {
          "logged": 1637412381209
        },
        "id": "6BukkGwnQ81U",
        "outputId": "1fec22c6-4aa0-4a8c-d5c8-4ad0b2099fd9"
      },
      "source": [
        "pip install torchaudio"
      ],
      "execution_count": null,
      "outputs": [
        {
          "name": "stdout",
          "output_type": "stream",
          "text": [
            "Requirement already satisfied: torchaudio in /anaconda/envs/azureml_py36/lib/python3.6/site-packages (0.10.0)\n",
            "Requirement already satisfied: torch==1.10.0 in /anaconda/envs/azureml_py36/lib/python3.6/site-packages (from torchaudio) (1.10.0)\n",
            "Requirement already satisfied: typing-extensions in /anaconda/envs/azureml_py36/lib/python3.6/site-packages (from torch==1.10.0->torchaudio) (3.7.4.3)\n",
            "Requirement already satisfied: dataclasses; python_version < \"3.7\" in /anaconda/envs/azureml_py36/lib/python3.6/site-packages (from torch==1.10.0->torchaudio) (0.8)\n",
            "Note: you may need to restart the kernel to use updated packages.\n"
          ]
        }
      ]
    },
    {
      "cell_type": "markdown",
      "metadata": {
        "id": "JKVGDRB0fW_Q"
      },
      "source": [
        "## Importing all neccessary libraries"
      ]
    },
    {
      "cell_type": "code",
      "metadata": {
        "gather": {
          "logged": 1637412399033
        },
        "id": "kvuzLADtfVwn"
      },
      "source": [
        "import warnings\n",
        "warnings. filterwarnings(\"ignore\")\n",
        "import os\n",
        "import torch\n",
        "import torch.nn as nn\n",
        "import torch.utils.data as data\n",
        "import torch.optim as optim\n",
        "import torch.nn.functional as F\n",
        "import torchaudio\n",
        "from torchaudio import transforms as tfs\n",
        "import numpy as np\n",
        "import pandas as pd \n",
        "from torch.nn import Sequential as sq\n",
        "from torch.nn import Linear as lnr\n",
        "from torch import argmax as agm\n",
        "from torch.nn import Module as ml\n"
      ],
      "execution_count": null,
      "outputs": []
    },
    {
      "cell_type": "markdown",
      "metadata": {
        "id": "bhdCAHRHfaR1"
      },
      "source": [
        "## Evaluation Metrics implementation (WER and CER)"
      ]
    },
    {
      "cell_type": "code",
      "metadata": {
        "gather": {
          "logged": 1637412399957
        },
        "id": "N94pVVHDfeVE"
      },
      "source": [
        "\n",
        "def avg_wer(wer_scores, combined_ref_len):\n",
        "    return float(sum(wer_scores)) / float(combined_ref_len)\n",
        "\n",
        "\n",
        "def _levenshtein_distance(ref, hyp):\n",
        "\n",
        "    m = len(ref)\n",
        "    n = len(hyp)\n",
        "\n",
        "    # special case\n",
        "    if ref == hyp:\n",
        "        return 0\n",
        "    if m == 0:\n",
        "        return n\n",
        "    if n == 0:\n",
        "        return m\n",
        "\n",
        "    if m < n:\n",
        "        ref, hyp = hyp, ref\n",
        "        m, n = n, m\n",
        "\n",
        "    # use O(min(m, n)) space\n",
        "    distance = np.zeros((2, n + 1), dtype=np.int32)\n",
        "\n",
        "    # initialize distance matrix\n",
        "    for j in range(0,n + 1):\n",
        "        distance[0][j] = j\n",
        "\n",
        "    # calculate levenshtein distance\n",
        "    for i in range(1, m + 1):\n",
        "        prev_row_idx = (i - 1) % 2\n",
        "        cur_row_idx = i % 2\n",
        "        distance[cur_row_idx][0] = i\n",
        "        for j in range(1, n + 1):\n",
        "            if ref[i - 1] == hyp[j - 1]:\n",
        "                distance[cur_row_idx][j] = distance[prev_row_idx][j - 1]\n",
        "            else:\n",
        "                s_num = distance[prev_row_idx][j - 1] + 1\n",
        "                i_num = distance[cur_row_idx][j - 1] + 1\n",
        "                d_num = distance[prev_row_idx][j] + 1\n",
        "                distance[cur_row_idx][j] = min(s_num, i_num, d_num)\n",
        "\n",
        "    return distance[m % 2][n]\n",
        "\n",
        "\n",
        "def word_errors(reference, hypothesis, ignore_case=False, delimiter=' '):\n",
        "    if ignore_case == True:\n",
        "        reference = reference.lower()\n",
        "        hypothesis = hypothesis.lower()\n",
        "\n",
        "    ref_words = reference.split(delimiter)\n",
        "    hyp_words = hypothesis.split(delimiter)\n",
        "\n",
        "    edit_distance = _levenshtein_distance(ref_words, hyp_words)\n",
        "    return float(edit_distance), len(ref_words)\n",
        "\n",
        "\n",
        "def char_errors(reference, hypothesis, ignore_case=False, remove_space=False):\n",
        "    if ignore_case == True:\n",
        "        reference = reference.lower()\n",
        "        hypothesis = hypothesis.lower()\n",
        "\n",
        "    join_char = ' '\n",
        "    if remove_space == True:\n",
        "        join_char = ''\n",
        "\n",
        "    reference = join_char.join(filter(None, reference.split(' ')))\n",
        "    hypothesis = join_char.join(filter(None, hypothesis.split(' ')))\n",
        "\n",
        "    edit_distance = _levenshtein_distance(reference, hypothesis)\n",
        "    return float(edit_distance), len(reference)\n",
        "\n",
        "\n",
        "def wer(reference, hypothesis, ignore_case=False, delimiter=' '):\n",
        "  \n",
        "    edit_distance, ref_len = word_errors(reference, hypothesis, ignore_case,\n",
        "                                         delimiter)\n",
        "\n",
        "    if ref_len == 0:\n",
        "        raise ValueError(\"Reference's word number should be greater than 0.\")\n",
        "\n",
        "    wer = float(edit_distance) / ref_len\n",
        "    return wer\n",
        "\n",
        "\n",
        "def cer(reference, hypothesis, ignore_case=False, remove_space=False):\n",
        " \n",
        "    edit_distance, ref_len = char_errors(reference, hypothesis, ignore_case,\n",
        "                                         remove_space)\n",
        "\n",
        "    if ref_len == 0:\n",
        "        raise ValueError(\"Length of reference should be greater than 0.\")\n",
        "\n",
        "    cer = float(edit_distance) / ref_len\n",
        "    return cer\n",
        "\n",
        "class TextTransform:\n",
        "    def __init__(self):\n",
        "        self.char_map={\"'\": 0, '': 1, 'a': 2, 'b': 3, 'c': 4, 'd': 5, 'e': 6, 'f': 7, 'g': 8, 'h': 9, 'i': 10, 'j': 11, 'k': 12, 'l': 13, 'm': 14, 'n': 15, 'o': 16, 'p': 17, 'q': 18, 'r': 19, 's': 20, 't': 21, 'u': 22, 'v': 23, 'w': 24, 'x': 25, 'y': 26, 'z': 27}\n",
        "        self.index_map={0: \"'\", 1: ' ', 2: 'a', 3: 'b', 4: 'c', 5: 'd', 6: 'e', 7: 'f', 8: 'g', 9: 'h', 10: 'i', 11: 'j', 12: 'k', 13: 'l', 14: 'm', 15: 'n', 16: 'o', 17: 'p', 18: 'q', 19: 'r', 20: 's', 21: 't', 22: 'u', 23: 'v', 24: 'w', 25: 'x', 26: 'y', 27: 'z'}\n",
        "        \n",
        "    def text_to_int(self, text):\n",
        "        \"\"\" Use a character map and convert text to an integer sequence \"\"\"\n",
        "        int_sequence = []\n",
        "        for c in text:\n",
        "            if c == ' ':\n",
        "                ch = self.char_map['']\n",
        "            else:\n",
        "                ch = self.char_map[c]\n",
        "            int_sequence.append(ch)\n",
        "        return int_sequence\n",
        "\n",
        "    \n",
        "    def int_to_text(self, labels):\n",
        "        \"\"\" Use a character map and convert integer labels to an text sequence \"\"\"\n",
        "        string = []\n",
        "        for i in labels:\n",
        "            string.append(self.index_map[i])\n",
        "        return ''.join(string).replace('', ' ')\n",
        "\n",
        "train_audio_transforms = nn.Sequential(\n",
        "    torchaudio.transforms.MelSpectrogram(sample_rate=16000, n_mels=128),\n",
        "    torchaudio.transforms.FrequencyMasking(freq_mask_param=30),\n",
        "    torchaudio.transforms.TimeMasking(time_mask_param=100)\n",
        ")\n",
        "\n",
        "valid_audio_transforms = torchaudio.transforms.MelSpectrogram()\n",
        "\n",
        "text_transform = TextTransform()\n",
        "\n",
        "def data_processing(data, data_type=\"train\"):\n",
        "    spectrograms = []\n",
        "    labels = []\n",
        "    input_lengths = []\n",
        "    label_lengths = []\n",
        "    for (waveform, _, utterance, _, _, _) in data:\n",
        "        if data_type == 'train':\n",
        "            spec = train_audio_transforms(waveform).squeeze(0).transpose(0, 1)\n",
        "        elif data_type == 'valid':\n",
        "            spec = valid_audio_transforms(waveform).squeeze(0).transpose(0, 1)\n",
        "        else:\n",
        "            raise Exception('data_type should be train or valid')\n",
        "        spectrograms.append(spec)\n",
        "        label = torch.Tensor(text_transform.text_to_int(utterance.lower()))\n",
        "        labels.append(label)\n",
        "        input_lengths.append(spec.shape[0]//2)\n",
        "        label_lengths.append(len(label))\n",
        "\n",
        "    spectrograms = nn.utils.rnn.pad_sequence(spectrograms, batch_first=True).unsqueeze(1).transpose(2, 3)\n",
        "    labels = nn.utils.rnn.pad_sequence(labels, batch_first=True)\n",
        "\n",
        "    return spectrograms, labels, input_lengths, label_lengths\n",
        "\n",
        "\n",
        "def GreedyDecoder(output, labels, label_lengths, blank_label=28, collapse_repeated=True):\n",
        "\targ_maxes = torch.argmax(output, dim=2)\n",
        "\tdecodes = []\n",
        "\ttargets = []\n",
        "\tfor i, args in enumerate(arg_maxes):\n",
        "\t\tdecode = []\n",
        "\t\ttargets.append(text_transform.int_to_text(labels[i][:label_lengths[i]].tolist()))\n",
        "\t\tfor j, index in enumerate(args):\n",
        "\t\t\tif index != blank_label:\n",
        "\t\t\t\tif collapse_repeated and j != 0 and index == args[j -1]:\n",
        "\t\t\t\t\tcontinue\n",
        "\t\t\t\tdecode.append(index.item())\n",
        "\t\tdecodes.append(text_transform.int_to_text(decode))\n",
        "\treturn decodes, targets"
      ],
      "execution_count": null,
      "outputs": []
    },
    {
      "cell_type": "markdown",
      "metadata": {
        "id": "S03454e2nQ9p"
      },
      "source": [
        "## The NVIDIA System Management Interface (management and monitoring of NVIDIA GPU devices)"
      ]
    },
    {
      "cell_type": "code",
      "metadata": {
        "colab": {
          "base_uri": "https://localhost:8080/"
        },
        "id": "lrzOZ5BgX8Ps",
        "outputId": "57d79640-edaa-4660-b8d4-36c4c4129bb0"
      },
      "source": [
        "!nvidia-smi"
      ],
      "execution_count": null,
      "outputs": [
        {
          "name": "stdout",
          "output_type": "stream",
          "text": [
            "Sat Nov 20 12:46:39 2021       \r\n",
            "+-----------------------------------------------------------------------------+\r\n",
            "| NVIDIA-SMI 465.19.01    Driver Version: 465.19.01    CUDA Version: 11.3     |\r\n",
            "|-------------------------------+----------------------+----------------------+\r\n",
            "| GPU  Name        Persistence-M| Bus-Id        Disp.A | Volatile Uncorr. ECC |\r\n",
            "| Fan  Temp  Perf  Pwr:Usage/Cap|         Memory-Usage | GPU-Util  Compute M. |\r\n",
            "|                               |                      |               MIG M. |\r\n",
            "|===============================+======================+======================|\r\n",
            "|   0  NVIDIA Tesla K80    On   | 00000001:00:00.0 Off |                    0 |\r\n",
            "| N/A   24C    P8    34W / 149W |      0MiB / 11441MiB |      0%      Default |\r\n",
            "|                               |                      |                  N/A |\r\n",
            "+-------------------------------+----------------------+----------------------+\r\n",
            "                                                                               \r\n",
            "+-----------------------------------------------------------------------------+\r\n",
            "| Processes:                                                                  |\r\n",
            "|  GPU   GI   CI        PID   Type   Process name                  GPU Memory |\r\n",
            "|        ID   ID                                                   Usage      |\r\n",
            "|=============================================================================|\r\n",
            "|  No running processes found                                                 |\r\n",
            "+-----------------------------------------------------------------------------+\r\n"
          ]
        }
      ]
    },
    {
      "cell_type": "markdown",
      "metadata": {
        "id": "QM0mA41WneNT"
      },
      "source": [
        "# **CNN layer**"
      ]
    },
    {
      "cell_type": "code",
      "metadata": {
        "gather": {
          "logged": 1637412443828
        },
        "id": "vpObb3vXX_El"
      },
      "source": [
        "class CNNLayerNorm(nn.Module):\n",
        "    def __init__(self, n_feats):\n",
        "        super(CNNLayerNorm, self).__init__()\n",
        "        self.layer_norm = nn.LayerNorm(n_feats)\n",
        "\n",
        "    def forward(self, x):\n",
        "        x = x.transpose(2, 3).contiguous() \n",
        "        x = self.layer_norm(x)\n",
        "        return x.transpose(2, 3).contiguous() \n",
        "\n",
        "\n",
        "class ResidualCNN(nn.Module):\n",
        "\n",
        "    def __init__(self, in_channels, out_channels, kernel, stride, dropout, n_feats):\n",
        "        super(ResidualCNN, self).__init__()\n",
        "\n",
        "        self.cnn1 = nn.Conv2d(in_channels, out_channels, kernel, stride, padding=kernel//2)\n",
        "        self.cnn2 = nn.Conv2d(out_channels, out_channels, kernel, stride, padding=kernel//2)\n",
        "        self.dropout1 = nn.Dropout(dropout)\n",
        "        self.dropout2 = nn.Dropout(dropout)\n",
        "        self.layer_norm1 = CNNLayerNorm(n_feats)\n",
        "        self.layer_norm2 = CNNLayerNorm(n_feats)\n",
        "\n",
        "    def forward(self, x):\n",
        "        residual = x \n",
        "        x = self.layer_norm1(x)\n",
        "        x = F.gelu(x)\n",
        "        x = self.dropout1(x)\n",
        "        x = self.cnn1(x)\n",
        "        x = self.layer_norm2(x)\n",
        "        x = F.gelu(x)\n",
        "        x = self.dropout2(x)\n",
        "        x = self.cnn2(x)\n",
        "        x += residual\n",
        "        return x \n",
        "\n",
        "\n"
      ],
      "execution_count": null,
      "outputs": []
    },
    {
      "cell_type": "markdown",
      "metadata": {
        "id": "FUGjv3ounj3_"
      },
      "source": [
        "# **Gated Recurrent Unit layer**"
      ]
    },
    {
      "cell_type": "code",
      "metadata": {
        "gather": {
          "logged": 1637412446645
        },
        "id": "lMqmUQLJYBI-"
      },
      "source": [
        "class BidirectionalGRU(nn.Module):\n",
        "\n",
        "    def __init__(self, rnn_dim, hidden_size, dropout, batch_first):\n",
        "        super(BidirectionalGRU, self).__init__()\n",
        "\n",
        "        self.BiGRU = nn.GRU(\n",
        "            input_size=rnn_dim, hidden_size=hidden_size,\n",
        "            num_layers=1, batch_first=batch_first, bidirectional=True)\n",
        "        self.layer_norm = nn.LayerNorm(rnn_dim)\n",
        "        self.dropout = nn.Dropout(dropout)\n",
        "\n",
        "    def forward(self, x):\n",
        "        x = self.layer_norm(x)\n",
        "        x = F.gelu(x)\n",
        "        x, _ = self.BiGRU(x)\n",
        "        x = self.dropout(x)\n",
        "        return x\n"
      ],
      "execution_count": null,
      "outputs": []
    },
    {
      "cell_type": "markdown",
      "metadata": {
        "id": "cupyNOdlno-Z"
      },
      "source": [
        "# Final Automatic Speech Recognition Model architecture"
      ]
    },
    {
      "cell_type": "code",
      "metadata": {
        "gather": {
          "logged": 1637412449064
        },
        "id": "0kIVttAsYDb5"
      },
      "source": [
        "\n",
        "\n",
        "class SpeechRecognitionModel(nn.Module):\n",
        "    \n",
        "    def __init__(self, n_cnn_layers, n_rnn_layers, rnn_dim, n_class, n_feats, stride=2, dropout=0.1):\n",
        "        super(SpeechRecognitionModel, self).__init__()\n",
        "        n_feats = n_feats//2\n",
        "        self.cnn = nn.Conv2d(1, 32, 3, stride=stride, padding=3//2) \n",
        "        self.rescnn_layers = nn.Sequential(*[\n",
        "            ResidualCNN(32, 32, kernel=3, stride=1, dropout=dropout, n_feats=n_feats) \n",
        "            for _ in range(n_cnn_layers)\n",
        "        ])\n",
        "        self.fully_connected = nn.Linear(n_feats*32, rnn_dim)\n",
        "        self.birnn_layers = nn.Sequential(*[\n",
        "            BidirectionalGRU(rnn_dim=rnn_dim if i==0 else rnn_dim*2,\n",
        "                             hidden_size=rnn_dim, dropout=dropout, batch_first=i==0)\n",
        "            for i in range(n_rnn_layers)\n",
        "        ])\n",
        "        self.classifier = nn.Sequential(\n",
        "            nn.Linear(rnn_dim*2, rnn_dim),  \n",
        "            nn.GELU(),\n",
        "            nn.Dropout(dropout),\n",
        "            nn.Linear(rnn_dim, n_class)\n",
        "        )\n",
        "\n",
        "    def forward(self, x):\n",
        "        x = self.cnn(x)\n",
        "        x = self.rescnn_layers(x)\n",
        "        sizes = x.size()\n",
        "        x = x.view(sizes[0], sizes[1] * sizes[2], sizes[3]) \n",
        "        x = x.transpose(1, 2) \n",
        "        x = self.fully_connected(x)\n",
        "        x = self.birnn_layers(x)\n",
        "        x = self.classifier(x)\n",
        "        return x"
      ],
      "execution_count": null,
      "outputs": []
    },
    {
      "cell_type": "markdown",
      "metadata": {
        "id": "y41lkdZ-noVh"
      },
      "source": [
        "# Training and Testing Code"
      ]
    },
    {
      "cell_type": "code",
      "metadata": {
        "gather": {
          "logged": 1637412451679
        },
        "id": "RZ8oZecBYGFi"
      },
      "source": [
        "class IterMeter(object):\n",
        "    def __init__(self):\n",
        "        self.val = 0\n",
        "\n",
        "    def step(self):\n",
        "        self.val += 1\n",
        "\n",
        "    def get(self):\n",
        "        return self.val\n",
        "\n",
        "\n",
        "def train(model, device, train_loader, criterion, optimizer, scheduler, epoch, iter_meter):\n",
        "    model.train()\n",
        "    data_len = len(train_loader.dataset)\n",
        "\n",
        "    for batch_idx, _data in enumerate(train_loader):\n",
        "        spectrograms, labels, input_lengths, label_lengths = _data \n",
        "        spectrograms, labels = spectrograms.to(device), labels.to(device)\n",
        "\n",
        "        optimizer.zero_grad()\n",
        "\n",
        "        output = model(spectrograms) \n",
        "        output = F.log_softmax(output, dim=2)\n",
        "        output = output.transpose(0, 1)\n",
        "\n",
        "        loss = criterion(output, labels, input_lengths, label_lengths)\n",
        "        loss.backward()\n",
        "\n",
        "    \n",
        "        optimizer.step()\n",
        "        scheduler.step()\n",
        "        iter_meter.step()\n",
        "        if batch_idx % 100 == 0 or batch_idx == data_len:\n",
        "            print('Train Epoch: {} [{}/{} ({:.0f}%)]\\tLoss: {:.6f}'.format(\n",
        "                epoch, batch_idx * len(spectrograms), data_len,\n",
        "                100. * batch_idx / len(train_loader), loss.item()))\n",
        "\n",
        "\n",
        "def test(model, device, test_loader, criterion, epoch, iter_meter):\n",
        "    print('\\nevaluating...')\n",
        "    model.eval()\n",
        "    test_loss = 0\n",
        "    test_cer, test_wer = [], []\n",
        "\n",
        "    with torch.no_grad():\n",
        "        for i, _data in enumerate(test_loader):\n",
        "            spectrograms, labels, input_lengths, label_lengths = _data \n",
        "            spectrograms, labels = spectrograms.to(device), labels.to(device)\n",
        "\n",
        "            output = model(spectrograms)  \n",
        "            output = F.log_softmax(output, dim=2)\n",
        "            output = output.transpose(0, 1)\n",
        "\n",
        "            loss = criterion(output, labels, input_lengths, label_lengths)\n",
        "            test_loss += loss.item() / len(test_loader)\n",
        "\n",
        "            decoded_preds, decoded_targets = GreedyDecoder(output.transpose(0, 1), labels, label_lengths)\n",
        "            for j in range(len(decoded_preds)):\n",
        "                test_cer.append(cer(decoded_targets[j], decoded_preds[j]))\n",
        "                test_wer.append(wer(decoded_targets[j], decoded_preds[j]))\n",
        "\n",
        "\n",
        "    avg_cer = sum(test_cer)/len(test_cer)\n",
        "    avg_wer = sum(test_wer)/len(test_wer)\n",
        "  \n",
        "    print('Test set: Average loss: {:.4f}, Average CER: {:4f} Average WER: {:.4f}\\n'.format(test_loss, avg_cer, avg_wer))\n",
        "    # filename='./best_fit_model'+str(epoch)+'.h5'\n",
        "    # torch.save(model,filename)\n",
        "\n",
        "\n"
      ],
      "execution_count": null,
      "outputs": []
    },
    {
      "cell_type": "markdown",
      "metadata": {
        "id": "wGj7rLijn4Q-"
      },
      "source": [
        "# Hyperparameters of the model"
      ]
    },
    {
      "cell_type": "code",
      "metadata": {
        "gather": {
          "logged": 1637412455615
        },
        "id": "gMG9JxM4YHaA"
      },
      "source": [
        "learning_rate = 5e-4\n",
        "batch_size = 5\n",
        "epochs = 10\n",
        "train_url = \"train-clean-100\"\n",
        "test_url = \"test-clean\""
      ],
      "execution_count": null,
      "outputs": []
    },
    {
      "cell_type": "code",
      "metadata": {
        "gather": {
          "logged": 1637412465101
        },
        "id": "0pUOYYKHYiCC"
      },
      "source": [
        "if not os.path.isdir(\"./data\"):\n",
        "    os.makedirs(\"./data\")\n",
        "train_dataset = torchaudio.datasets.LIBRISPEECH(\"./data\", url=train_url, download=True)\n",
        "test_dataset = torchaudio.datasets.LIBRISPEECH(\"./data\", url=test_url, download=True)"
      ],
      "execution_count": null,
      "outputs": []
    },
    {
      "cell_type": "code",
      "metadata": {
        "colab": {
          "base_uri": "https://localhost:8080/"
        },
        "gather": {
          "logged": 1637412510407
        },
        "id": "p4KvaBDgYKln",
        "outputId": "aa9a2cfc-2a80-48d7-a188-9b29c48cae12"
      },
      "source": [
        "hparams = {\n",
        "    \"n_cnn_layers\": 3,\n",
        "    \"n_rnn_layers\": 5,\n",
        "    \"rnn_dim\": 512,\n",
        "    \"n_class\": 29,\n",
        "    \"n_feats\": 128,\n",
        "    \"stride\":2,\n",
        "    \"dropout\": 0.1,\n",
        "    \"learning_rate\": learning_rate,\n",
        "    \"batch_size\": batch_size,\n",
        "    \"epochs\": epochs\n",
        "}\n",
        "\n",
        "use_cuda = torch.cuda.is_available()\n",
        "torch.manual_seed(7)\n",
        "device = torch.device(\"cuda\" if use_cuda else \"cpu\")\n",
        "\n",
        "\n",
        "kwargs = {'num_workers': 1, 'pin_memory': True} if use_cuda else {}\n",
        "train_loader = data.DataLoader(dataset=train_dataset,\n",
        "                            batch_size=hparams['batch_size'],\n",
        "                            shuffle=True,\n",
        "                            collate_fn=lambda x: data_processing(x, 'train'),\n",
        "                            **kwargs)\n",
        "test_loader = data.DataLoader(dataset=test_dataset,\n",
        "                            batch_size=hparams['batch_size'],\n",
        "                            shuffle=False,\n",
        "                            collate_fn=lambda x: data_processing(x, 'valid'),\n",
        "                            **kwargs)\n",
        "\n",
        "model = SpeechRecognitionModel(\n",
        "    hparams['n_cnn_layers'], hparams['n_rnn_layers'], hparams['rnn_dim'],\n",
        "    hparams['n_class'], hparams['n_feats'], hparams['stride'], hparams['dropout']\n",
        "    ).to(device)\n",
        "\n",
        "print(model)\n",
        "print('Num Model Parameters', sum([param.nelement() for param in model.parameters()]))\n",
        "\n",
        "optimizer = optim.AdamW(model.parameters(), hparams['learning_rate'])\n",
        "criterion = nn.CTCLoss(blank=28).to(device)\n",
        "scheduler = optim.lr_scheduler.OneCycleLR(optimizer, max_lr=hparams['learning_rate'], steps_per_epoch=int(len(train_loader)),epochs=hparams['epochs'],anneal_strategy='linear')\n",
        "\n",
        "iter_meter = IterMeter()\n"
      ],
      "execution_count": null,
      "outputs": [
        {
          "name": "stdout",
          "output_type": "stream",
          "text": [
            "SpeechRecognitionModel(\n",
            "  (cnn): Conv2d(1, 32, kernel_size=(3, 3), stride=(2, 2), padding=(1, 1))\n",
            "  (rescnn_layers): Sequential(\n",
            "    (0): ResidualCNN(\n",
            "      (cnn1): Conv2d(32, 32, kernel_size=(3, 3), stride=(1, 1), padding=(1, 1))\n",
            "      (cnn2): Conv2d(32, 32, kernel_size=(3, 3), stride=(1, 1), padding=(1, 1))\n",
            "      (dropout1): Dropout(p=0.1, inplace=False)\n",
            "      (dropout2): Dropout(p=0.1, inplace=False)\n",
            "      (layer_norm1): CNNLayerNorm(\n",
            "        (layer_norm): LayerNorm((64,), eps=1e-05, elementwise_affine=True)\n",
            "      )\n",
            "      (layer_norm2): CNNLayerNorm(\n",
            "        (layer_norm): LayerNorm((64,), eps=1e-05, elementwise_affine=True)\n",
            "      )\n",
            "    )\n",
            "    (1): ResidualCNN(\n",
            "      (cnn1): Conv2d(32, 32, kernel_size=(3, 3), stride=(1, 1), padding=(1, 1))\n",
            "      (cnn2): Conv2d(32, 32, kernel_size=(3, 3), stride=(1, 1), padding=(1, 1))\n",
            "      (dropout1): Dropout(p=0.1, inplace=False)\n",
            "      (dropout2): Dropout(p=0.1, inplace=False)\n",
            "      (layer_norm1): CNNLayerNorm(\n",
            "        (layer_norm): LayerNorm((64,), eps=1e-05, elementwise_affine=True)\n",
            "      )\n",
            "      (layer_norm2): CNNLayerNorm(\n",
            "        (layer_norm): LayerNorm((64,), eps=1e-05, elementwise_affine=True)\n",
            "      )\n",
            "    )\n",
            "    (2): ResidualCNN(\n",
            "      (cnn1): Conv2d(32, 32, kernel_size=(3, 3), stride=(1, 1), padding=(1, 1))\n",
            "      (cnn2): Conv2d(32, 32, kernel_size=(3, 3), stride=(1, 1), padding=(1, 1))\n",
            "      (dropout1): Dropout(p=0.1, inplace=False)\n",
            "      (dropout2): Dropout(p=0.1, inplace=False)\n",
            "      (layer_norm1): CNNLayerNorm(\n",
            "        (layer_norm): LayerNorm((64,), eps=1e-05, elementwise_affine=True)\n",
            "      )\n",
            "      (layer_norm2): CNNLayerNorm(\n",
            "        (layer_norm): LayerNorm((64,), eps=1e-05, elementwise_affine=True)\n",
            "      )\n",
            "    )\n",
            "  )\n",
            "  (fully_connected): Linear(in_features=2048, out_features=512, bias=True)\n",
            "  (birnn_layers): Sequential(\n",
            "    (0): BidirectionalGRU(\n",
            "      (BiGRU): GRU(512, 512, batch_first=True, bidirectional=True)\n",
            "      (layer_norm): LayerNorm((512,), eps=1e-05, elementwise_affine=True)\n",
            "      (dropout): Dropout(p=0.1, inplace=False)\n",
            "    )\n",
            "    (1): BidirectionalGRU(\n",
            "      (BiGRU): GRU(1024, 512, bidirectional=True)\n",
            "      (layer_norm): LayerNorm((1024,), eps=1e-05, elementwise_affine=True)\n",
            "      (dropout): Dropout(p=0.1, inplace=False)\n",
            "    )\n",
            "    (2): BidirectionalGRU(\n",
            "      (BiGRU): GRU(1024, 512, bidirectional=True)\n",
            "      (layer_norm): LayerNorm((1024,), eps=1e-05, elementwise_affine=True)\n",
            "      (dropout): Dropout(p=0.1, inplace=False)\n",
            "    )\n",
            "    (3): BidirectionalGRU(\n",
            "      (BiGRU): GRU(1024, 512, bidirectional=True)\n",
            "      (layer_norm): LayerNorm((1024,), eps=1e-05, elementwise_affine=True)\n",
            "      (dropout): Dropout(p=0.1, inplace=False)\n",
            "    )\n",
            "    (4): BidirectionalGRU(\n",
            "      (BiGRU): GRU(1024, 512, bidirectional=True)\n",
            "      (layer_norm): LayerNorm((1024,), eps=1e-05, elementwise_affine=True)\n",
            "      (dropout): Dropout(p=0.1, inplace=False)\n",
            "    )\n",
            "  )\n",
            "  (classifier): Sequential(\n",
            "    (0): Linear(in_features=1024, out_features=512, bias=True)\n",
            "    (1): GELU()\n",
            "    (2): Dropout(p=0.1, inplace=False)\n",
            "    (3): Linear(in_features=512, out_features=29, bias=True)\n",
            "  )\n",
            ")\n",
            "Num Model Parameters 23705373\n"
          ]
        }
      ]
    },
    {
      "cell_type": "markdown",
      "metadata": {
        "id": "QxftuqFfo_tO"
      },
      "source": [
        "# Code for model training and testing (Optional)\n",
        "\n",
        "\n",
        "> This code snippet should only be used for base model training.\n",
        "\n",
        "> Since we already have our based model trained , we will skip this part and load our trained model directly\n",
        "\n",
        "\n",
        "\n",
        "\n"
      ]
    },
    {
      "cell_type": "code",
      "metadata": {
        "gather": {
          "logged": 1636836533157
        },
        "id": "3C6FJgkro8I3"
      },
      "source": [
        "# for epoch in range(1, epochs+1):\n",
        "#     train(model, device, train_loader, criterion, optimizer, scheduler, epoch, iter_meter)\n",
        "#     test(model, device, test_loader, criterion, epoch, iter_meter)"
      ],
      "execution_count": null,
      "outputs": []
    },
    {
      "cell_type": "markdown",
      "metadata": {
        "id": "fX0uozFvn--5"
      },
      "source": [
        "# Loading the best fit model\n",
        "\n",
        "\n",
        "*   The base model for slurred speech Recognition has been trained on kaggle for 10 epoch.\n",
        "*   It has been trained on Librispeech Corpus Speech Dataset\n",
        "\n"
      ]
    },
    {
      "cell_type": "code",
      "metadata": {
        "gather": {
          "logged": 1637412513012
        },
        "id": "iGALiIQhZMwO"
      },
      "source": [
        "# import os \n",
        "# print(os.getcwd())\n",
        "\n",
        "loaded_model = torch.load('/mnt/batch/tasks/shared/LS_root/mounts/clusters/shivam1234/code/Users/kshivamranjan.cse18/Best-Fit-TrainedModel/best_fit_model_final.h5')\n"
      ],
      "execution_count": null,
      "outputs": []
    },
    {
      "cell_type": "code",
      "metadata": {
        "colab": {
          "base_uri": "https://localhost:8080/"
        },
        "gather": {
          "logged": 1637412513429
        },
        "id": "Uh6gIyA4YgpQ",
        "outputId": "a174e1c2-0547-470a-f0d6-a595ea3a0d3b"
      },
      "source": [
        "print(loaded_model)"
      ],
      "execution_count": null,
      "outputs": [
        {
          "name": "stdout",
          "output_type": "stream",
          "text": [
            "SpeechRecognitionModel(\n",
            "  (cnn): Conv2d(1, 32, kernel_size=(3, 3), stride=(2, 2), padding=(1, 1))\n",
            "  (rescnn_layers): Sequential(\n",
            "    (0): ResidualCNN(\n",
            "      (cnn1): Conv2d(32, 32, kernel_size=(3, 3), stride=(1, 1), padding=(1, 1))\n",
            "      (cnn2): Conv2d(32, 32, kernel_size=(3, 3), stride=(1, 1), padding=(1, 1))\n",
            "      (dropout1): Dropout(p=0.1, inplace=False)\n",
            "      (dropout2): Dropout(p=0.1, inplace=False)\n",
            "      (layer_norm1): CNNLayerNorm(\n",
            "        (layer_norm): LayerNorm((64,), eps=1e-05, elementwise_affine=True)\n",
            "      )\n",
            "      (layer_norm2): CNNLayerNorm(\n",
            "        (layer_norm): LayerNorm((64,), eps=1e-05, elementwise_affine=True)\n",
            "      )\n",
            "    )\n",
            "    (1): ResidualCNN(\n",
            "      (cnn1): Conv2d(32, 32, kernel_size=(3, 3), stride=(1, 1), padding=(1, 1))\n",
            "      (cnn2): Conv2d(32, 32, kernel_size=(3, 3), stride=(1, 1), padding=(1, 1))\n",
            "      (dropout1): Dropout(p=0.1, inplace=False)\n",
            "      (dropout2): Dropout(p=0.1, inplace=False)\n",
            "      (layer_norm1): CNNLayerNorm(\n",
            "        (layer_norm): LayerNorm((64,), eps=1e-05, elementwise_affine=True)\n",
            "      )\n",
            "      (layer_norm2): CNNLayerNorm(\n",
            "        (layer_norm): LayerNorm((64,), eps=1e-05, elementwise_affine=True)\n",
            "      )\n",
            "    )\n",
            "    (2): ResidualCNN(\n",
            "      (cnn1): Conv2d(32, 32, kernel_size=(3, 3), stride=(1, 1), padding=(1, 1))\n",
            "      (cnn2): Conv2d(32, 32, kernel_size=(3, 3), stride=(1, 1), padding=(1, 1))\n",
            "      (dropout1): Dropout(p=0.1, inplace=False)\n",
            "      (dropout2): Dropout(p=0.1, inplace=False)\n",
            "      (layer_norm1): CNNLayerNorm(\n",
            "        (layer_norm): LayerNorm((64,), eps=1e-05, elementwise_affine=True)\n",
            "      )\n",
            "      (layer_norm2): CNNLayerNorm(\n",
            "        (layer_norm): LayerNorm((64,), eps=1e-05, elementwise_affine=True)\n",
            "      )\n",
            "    )\n",
            "  )\n",
            "  (fully_connected): Linear(in_features=2048, out_features=512, bias=True)\n",
            "  (birnn_layers): Sequential(\n",
            "    (0): BidirectionalGRU(\n",
            "      (BiGRU): GRU(512, 512, batch_first=True, bidirectional=True)\n",
            "      (layer_norm): LayerNorm((512,), eps=1e-05, elementwise_affine=True)\n",
            "      (dropout): Dropout(p=0.1, inplace=False)\n",
            "    )\n",
            "    (1): BidirectionalGRU(\n",
            "      (BiGRU): GRU(1024, 512, bidirectional=True)\n",
            "      (layer_norm): LayerNorm((1024,), eps=1e-05, elementwise_affine=True)\n",
            "      (dropout): Dropout(p=0.1, inplace=False)\n",
            "    )\n",
            "    (2): BidirectionalGRU(\n",
            "      (BiGRU): GRU(1024, 512, bidirectional=True)\n",
            "      (layer_norm): LayerNorm((1024,), eps=1e-05, elementwise_affine=True)\n",
            "      (dropout): Dropout(p=0.1, inplace=False)\n",
            "    )\n",
            "    (3): BidirectionalGRU(\n",
            "      (BiGRU): GRU(1024, 512, bidirectional=True)\n",
            "      (layer_norm): LayerNorm((1024,), eps=1e-05, elementwise_affine=True)\n",
            "      (dropout): Dropout(p=0.1, inplace=False)\n",
            "    )\n",
            "    (4): BidirectionalGRU(\n",
            "      (BiGRU): GRU(1024, 512, bidirectional=True)\n",
            "      (layer_norm): LayerNorm((1024,), eps=1e-05, elementwise_affine=True)\n",
            "      (dropout): Dropout(p=0.1, inplace=False)\n",
            "    )\n",
            "  )\n",
            "  (classifier): Sequential(\n",
            "    (0): Linear(in_features=1024, out_features=512, bias=True)\n",
            "    (1): GELU()\n",
            "    (2): Dropout(p=0.1, inplace=False)\n",
            "    (3): Linear(in_features=512, out_features=29, bias=True)\n",
            "  )\n",
            ")\n"
          ]
        }
      ]
    },
    {
      "cell_type": "markdown",
      "metadata": {
        "id": "NEXebGeypl03"
      },
      "source": [
        "# Testing our loaded base model"
      ]
    },
    {
      "cell_type": "code",
      "metadata": {
        "colab": {
          "base_uri": "https://localhost:8080/"
        },
        "gather": {
          "logged": 1637373371880
        },
        "id": "vUkhKqGGpxol",
        "outputId": "aeb6b30b-c395-4980-c465-badbf7ec2549"
      },
      "source": [
        "test(loaded_model, device, test_loader, criterion, 1, iter_meter)"
      ],
      "execution_count": null,
      "outputs": [
        {
          "name": "stdout",
          "output_type": "stream",
          "text": [
            "\n",
            "evaluating...\n",
            "Test set: Average loss: 0.4614, Average CER: 0.100389 Average WER: 0.1188\n",
            "\n"
          ]
        }
      ]
    },
    {
      "cell_type": "code",
      "metadata": {
        "gather": {
          "logged": 1637412513845
        },
        "id": "_p8C5mpLbm20"
      },
      "source": [
        "import os\n",
        "from typing import Tuple, Union\n",
        "from pathlib import Path\n",
        "import torchaudio\n",
        "from torch import Tensor\n",
        "from torch.utils.data import Dataset\n",
        "\n",
        "\n",
        "def load_librispeech_item(fileid,path,ext_audio,ext_txt):\n",
        "    speaker_id, chapter_id, utterance_id = fileid.split(\"-\")\n",
        "\n",
        "    file_text = speaker_id + \"-\" + chapter_id + ext_txt\n",
        "    file_text = os.path.join(path, speaker_id, chapter_id, file_text)\n",
        "\n",
        "    fileid_audio = speaker_id + \"-\" + chapter_id + \"-\" + utterance_id\n",
        "    file_audio = fileid_audio + ext_audio\n",
        "    file_audio = os.path.join(path, speaker_id, chapter_id, file_audio)\n",
        "\n",
        "    waveform, sample_rate = torchaudio.load(file_audio)\n",
        "\n",
        "    with open(file_text) as ft:\n",
        "        for line in ft:\n",
        "            fileid_text, utterance = line.strip().split(\" \", 1)\n",
        "            if fileid_audio == fileid_text:\n",
        "                break\n",
        "        else:\n",
        "            raise FileNotFoundError(\"Translation not found for \" + fileid_audio)\n",
        "\n",
        "    return (waveform,sample_rate,utterance,int(speaker_id),int(chapter_id),int(utterance_id),)\n"
      ],
      "execution_count": null,
      "outputs": []
    },
    {
      "cell_type": "markdown",
      "metadata": {
        "id": "rNeuTm-IFr8x"
      },
      "source": [
        "## Custom class for loading Slurred Speech Test Dataset in Pytorch"
      ]
    },
    {
      "cell_type": "code",
      "metadata": {
        "gather": {
          "logged": 1637412514348
        },
        "id": "w1AWy9snF1WZ"
      },
      "source": [
        "class TestDataset(Dataset): \n",
        "    _ext_txt = \".trans.txt\"\n",
        "    _ext_audio = \".flac\"\n",
        "    def __init__(self):\n",
        "        self._path=\"/mnt/batch/tasks/shared/LS_root/mounts/clusters/shivam1234/code/Users/kshivamranjan.cse18/SlurredSpeech-Dataset-Test(Hindi)\"\n",
        "        self._walker=['1-2-0000', '1-2-0001', '1-2-0002', '1-2-0003', '1-2-0004', '1-2-0005', '1-2-0006', '1-2-0007', '1-2-0008', '1-2-0009', '1-2-0010', '1-2-0011', '1-2-0012', '1-2-0013', '1-2-0014', '1-2-0015', '1-2-0016', '1-2-0017', '1-2-0018', '1-2-0019', '1-2-0020', '1-2-0021', '1-2-0022', '1-2-0023', '1-2-0024', '1-2-0025', '1-2-0026', '1-2-0027', '1-2-0028', '1-2-0029', '1-2-0030', '1-2-0031', '1-2-0032', '1-2-0033', '1-2-0034', '1-2-0035', '1-2-0036', '1-2-0037', '1-2-0038', '1-2-0039', '1-2-0040', '1-2-0041', '1-2-0042', '1-2-0043', '1-2-0044', '1-2-0045', '1-2-0046', '1-2-0047', '1-2-0048', '1-2-0049', '1-2-0050', '1-2-0051', '1-2-0052', '1-2-0053', '1-2-0054', '1-2-0055', '1-2-0056', '1-2-0057', '1-2-0058', '1-2-0059', '1-2-0060', '1-2-0061', '1-2-0062', '1-2-0063', '1-2-0064', '1-2-0065', '1-2-0066', '1-2-0067', '1-2-0068', '1-2-0069', '1-2-0070', '1-2-0071', '1-2-0072', '1-2-0073', '1-2-0074', '1-2-0075', '1-2-0076', '1-2-0077', '1-2-0078', '1-2-0079', '1-2-0080', '1-2-0081', '1-2-0082', '1-2-0083', '1-2-0084', '1-2-0085', '1-2-0086', '1-2-0087', '1-2-0088', '1-2-0089', '1-2-0090', '1-2-0091', '1-2-0092', '1-2-0093', '1-2-0094', '1-2-0095', '1-2-0096', '1-2-0097', '1-2-0098', '1-2-0099']\n",
        "\n",
        "    def __getitem__(self, n):\n",
        "        fileid = self._walker[n]\n",
        "        return load_librispeech_item(fileid, self._path, self._ext_audio, self._ext_txt)\n",
        "\n",
        "    def __len__(self):\n",
        "        return len(self._walker)   \n",
        "    \n",
        "    \n",
        "testDataset_slurred_speech=TestDataset()"
      ],
      "execution_count": null,
      "outputs": []
    },
    {
      "cell_type": "markdown",
      "metadata": {
        "id": "Z-yHQfJhF4Is"
      },
      "source": [
        "## Custom class for loading Slurred Speech Train Dataset in Pytorch"
      ]
    },
    {
      "cell_type": "code",
      "metadata": {
        "gather": {
          "logged": 1637412514718
        },
        "id": "32vqme6tF_9D"
      },
      "source": [
        "class TrainDataset(Dataset): \n",
        "    _ext_txt = \".trans.txt\"\n",
        "    _ext_audio = \".flac\"\n",
        "    def __init__(self):\n",
        "        self._path=\"/mnt/batch/tasks/shared/LS_root/mounts/clusters/shivam1234/code/Users/kshivamranjan.cse18/SlurredSpeech-Dataset-Train(Hindi)\"\n",
        "        self._walker=['1-2-0000', '1-2-0001', '1-2-0002', '1-2-0003', '1-2-0004', '1-2-0005', '1-2-0006', '1-2-0007', '1-2-0008', '1-2-0009', '1-2-0010', '1-2-0011', '1-2-0012', '1-2-0013', '1-2-0014', '1-2-0015', '1-2-0016', '1-2-0017', '1-2-0018', '1-2-0019', '1-2-0020', '1-2-0021', '1-2-0022', '1-2-0023', '1-2-0024', '1-2-0025', '1-2-0026', '1-2-0027', '1-2-0028', '1-2-0029', '1-2-0030', '1-2-0031', '1-2-0032', '1-2-0033', '1-2-0034', '1-2-0035', '1-2-0036', '1-2-0037', '1-2-0038', '1-2-0039', '1-2-0040', '1-2-0041', '1-2-0042', '1-2-0043', '1-2-0044', '1-2-0045', '1-2-0046', '1-2-0047', '1-2-0048', '1-2-0049', '1-2-0050', '1-2-0051', '1-2-0052', '1-2-0053', '1-2-0054', '1-2-0055', '1-2-0056', '1-2-0057', '1-2-0058', '1-2-0059', '1-2-0060', '1-2-0061', '1-2-0062', '1-2-0063', '1-2-0064', '1-2-0065', '1-2-0066', '1-2-0067', '1-2-0068', '1-2-0069', '1-2-0070', '1-2-0071', '1-2-0072', '1-2-0073', '1-2-0074', '1-2-0075', '1-2-0076', '1-2-0077', '1-2-0078', '1-2-0079', '1-2-0080', '1-2-0081', '1-2-0082', '1-2-0083', '1-2-0084', '1-2-0085', '1-2-0086', '1-2-0087', '1-2-0088', '1-2-0089', '1-2-0090', '1-2-0091', '1-2-0092', '1-2-0093', '1-2-0094', '1-2-0095', '1-2-0096', '1-2-0097', '1-2-0098', '1-2-0099']\n",
        "\n",
        "    def __getitem__(self, n):\n",
        "        fileid = self._walker[n]\n",
        "        return load_librispeech_item(fileid, self._path, self._ext_audio, self._ext_txt)\n",
        "\n",
        "    def __len__(self):\n",
        "        return len(self._walker)   \n",
        "    \n",
        "    \n",
        "trainDataset_slurred_speech=TrainDataset()"
      ],
      "execution_count": null,
      "outputs": []
    },
    {
      "cell_type": "code",
      "metadata": {
        "gather": {
          "logged": 1637412515135
        },
        "id": "DK8WOvO3bnAo"
      },
      "source": [
        "\n",
        "testDataLoaderSlurred = data.DataLoader(dataset=testDataset_slurred_speech,batch_size=hparams['batch_size'],shuffle=False,collate_fn=lambda x: data_processing(x, 'valid'),**kwargs)\n",
        "trainDataLoderSlurred = data.DataLoader(dataset=trainDataset_slurred_speech,batch_size=hparams['batch_size'],shuffle=False,collate_fn=lambda x: data_processing(x, 'valid'),**kwargs)\n",
        "\n"
      ],
      "execution_count": null,
      "outputs": []
    },
    {
      "cell_type": "markdown",
      "metadata": {
        "id": "7ShzeIQjw7Zw"
      },
      "source": [
        "# Testing our base model before fine tuning on slurred speech dataset"
      ]
    },
    {
      "cell_type": "code",
      "metadata": {
        "colab": {
          "base_uri": "https://localhost:8080/"
        },
        "gather": {
          "logged": 1637373389174
        },
        "id": "CRpIbdbfbnGl",
        "outputId": "21741f77-2c8b-4f34-fa37-fb12c5adac3a"
      },
      "source": [
        "test(loaded_model, device, testDataLoaderSlurred, criterion, 1, iter_meter)"
      ],
      "execution_count": null,
      "outputs": [
        {
          "name": "stdout",
          "output_type": "stream",
          "text": [
            "\n",
            "evaluating...\n",
            "Test set: Average loss: 4.3619, Average CER: 0.746480 Average WER: 0.6611\n",
            "\n"
          ]
        }
      ]
    },
    {
      "cell_type": "markdown",
      "metadata": {
        "id": "L2ORmkDudhKN"
      },
      "source": [
        "# Transfer learning Training and Testing"
      ]
    },
    {
      "cell_type": "code",
      "metadata": {
        "gather": {
          "logged": 1637412515566
        },
        "id": "rqh4hqZrdgJD"
      },
      "source": [
        "class IterMeter(object):\n",
        "    def __init__(self):\n",
        "        self.val = 0\n",
        "\n",
        "    def step(self):\n",
        "        self.val += 1\n",
        "\n",
        "    def get(self):\n",
        "        return self.val\n",
        "\n",
        "def train_transfer_learning(model, device, train_loader, criterion, optimizer, scheduler, epoch, iter_meter):\n",
        "    model.train()\n",
        "    data_len = len(train_loader.dataset)\n",
        "\n",
        "    for batch_idx, _data in enumerate(train_loader):\n",
        "        spectrograms, labels, input_lengths, label_lengths = _data \n",
        "        spectrograms, labels = spectrograms.to(device), labels.to(device)\n",
        "\n",
        "        optimizer.zero_grad()\n",
        "\n",
        "        output = model(spectrograms) \n",
        "        output = F.log_softmax(output, dim=2)\n",
        "        output = output.transpose(0, 1)\n",
        "\n",
        "        loss = criterion(output, labels, input_lengths, label_lengths)\n",
        "        loss.backward()\n",
        "\n",
        "    \n",
        "        optimizer.step()\n",
        "        scheduler.step()\n",
        "        iter_meter.step()\n",
        "        if batch_idx % 100 == 0 or batch_idx == data_len:\n",
        "            print('Train Epoch: {} [{}/{} ({:.0f}%)]\\tLoss: {:.6f}'.format(\n",
        "                epoch, batch_idx * len(spectrograms), data_len,\n",
        "                100. * batch_idx / len(train_loader), loss.item()))\n",
        "\n",
        "\n",
        "def test_transfer_learning(model, device, test_loader, criterion, epoch, iter_meter,losses,character_error_rates,word_error_rates):\n",
        "    print('\\nevaluating...')\n",
        "    model.eval()\n",
        "    test_loss = 0\n",
        "    test_cer, test_wer = [], []\n",
        "    with torch.no_grad():\n",
        "        for i, _data in enumerate(test_loader):\n",
        "            spectrograms, labels, input_lengths, label_lengths = _data \n",
        "            spectrograms, labels = spectrograms.to(device), labels.to(device)\n",
        "\n",
        "            output = model(spectrograms)  \n",
        "            output = F.log_softmax(output, dim=2)\n",
        "            output = output.transpose(0, 1)\n",
        "\n",
        "            loss = criterion(output, labels, input_lengths, label_lengths)\n",
        "            test_loss += loss.item() / len(test_loader)\n",
        "\n",
        "            decoded_preds, decoded_targets = GreedyDecoder(output.transpose(0, 1), labels, label_lengths)\n",
        "            for j in range(len(decoded_preds)):\n",
        "                test_cer.append(cer(decoded_targets[j], decoded_preds[j]))\n",
        "                test_wer.append(wer(decoded_targets[j], decoded_preds[j]))\n",
        "\n",
        "\n",
        "    avg_cer = sum(test_cer)/len(test_cer)\n",
        "    avg_wer = sum(test_wer)/len(test_wer)\n",
        "    losses.append(test_loss)\n",
        "    character_error_rates.append(avg_cer)\n",
        "    word_error_rates.append(avg_wer)\n",
        "    print('Test set: Average loss: {:.4f}, Average CER: {:4f} Average WER: {:.4f}\\n'.format(test_loss, avg_cer, avg_wer))\n",
        "    filename='/mnt/batch/tasks/shared/LS_root/mounts/clusters/shivam1234/code/Users/kshivamranjan.cse18/Transfer-learned-models-Hindi/best_fit_model_transfer_learning'+str(epoch)+'.h5'\n",
        "    torch.save(model,filename)\n",
        "\n",
        "\n"
      ],
      "execution_count": null,
      "outputs": []
    },
    {
      "cell_type": "markdown",
      "metadata": {
        "id": "WS6xjIOzxQLz"
      },
      "source": [
        "# Applying transfer learning"
      ]
    },
    {
      "cell_type": "code",
      "metadata": {
        "colab": {
          "base_uri": "https://localhost:8080/"
        },
        "gather": {
          "logged": 1637414166215
        },
        "id": "K3pvzxRrBvF7",
        "outputId": "214ff1a1-6d30-4f9a-9934-ab0587e1dda8"
      },
      "source": [
        "losses=[]\n",
        "character_error_rates=[]\n",
        "word_error_rates=[]\n",
        "def transfer_learning_type1(pre_trained_model):\n",
        "  hparams = {\"learning_rate\": 5e-4,\"batch_size\": 5,\"epochs\": 20}\n",
        "  opti = optim.AdamW(pre_trained_model.parameters(), hparams['learning_rate'])\n",
        "  crit = nn.CTCLoss(blank=28).to(device)\n",
        "  sche = optim.lr_scheduler.OneCycleLR(opti, max_lr=hparams['learning_rate'], steps_per_epoch=int(len(trainDataLoderSlurred)),epochs=hparams['epochs'],anneal_strategy='linear')\n",
        "  iter = IterMeter()\n",
        "  for epoch in range(1, hparams['epochs']+1):\n",
        "    train_transfer_learning(pre_trained_model, device, trainDataLoderSlurred, crit, opti, sche, epoch, iter)\n",
        "    test_transfer_learning(pre_trained_model, device, testDataLoaderSlurred, crit, epoch, iter,losses,character_error_rates,word_error_rates)\n",
        "\n",
        "transfer_learning_type1(loaded_model)\n"
      ],
      "execution_count": null,
      "outputs": [
        {
          "name": "stdout",
          "output_type": "stream",
          "text": [
            "Train Epoch: 1 [0/100 (0%)]\tLoss: 2.095421\n",
            "\n",
            "evaluating...\n",
            "Test set: Average loss: 2.1437, Average CER: 0.604554 Average WER: 0.6418\n",
            "\n",
            "Train Epoch: 2 [0/100 (0%)]\tLoss: 2.076826\n",
            "\n",
            "evaluating...\n",
            "Test set: Average loss: 2.1136, Average CER: 0.631009 Average WER: 0.6485\n",
            "\n",
            "Train Epoch: 3 [0/100 (0%)]\tLoss: 2.059233\n",
            "\n",
            "evaluating...\n",
            "Test set: Average loss: 2.0908, Average CER: 0.608007 Average WER: 0.6576\n",
            "\n",
            "Train Epoch: 4 [0/100 (0%)]\tLoss: 2.021685\n",
            "\n",
            "evaluating...\n",
            "Test set: Average loss: 2.0862, Average CER: 0.612941 Average WER: 0.6413\n",
            "\n",
            "Train Epoch: 5 [0/100 (0%)]\tLoss: 2.020346\n",
            "\n",
            "evaluating...\n",
            "Test set: Average loss: 2.1010, Average CER: 0.590656 Average WER: 0.5950\n",
            "\n",
            "Train Epoch: 6 [0/100 (0%)]\tLoss: 2.019979\n",
            "\n",
            "evaluating...\n",
            "Test set: Average loss: 2.2092, Average CER: 0.652744 Average WER: 0.6978\n",
            "\n",
            "Train Epoch: 7 [0/100 (0%)]\tLoss: 2.187169\n",
            "\n",
            "evaluating...\n",
            "Test set: Average loss: 2.1183, Average CER: 0.610602 Average WER: 0.6334\n",
            "\n",
            "Train Epoch: 8 [0/100 (0%)]\tLoss: 2.161849\n",
            "\n",
            "evaluating...\n",
            "Test set: Average loss: 2.1860, Average CER: 0.694863 Average WER: 0.6474\n",
            "\n",
            "Train Epoch: 9 [0/100 (0%)]\tLoss: 2.119794\n",
            "\n",
            "evaluating...\n",
            "Test set: Average loss: 2.0959, Average CER: 0.697701 Average WER: 0.7100\n",
            "\n",
            "Train Epoch: 10 [0/100 (0%)]\tLoss: 1.967182\n",
            "\n",
            "evaluating...\n",
            "Test set: Average loss: 1.9788, Average CER: 0.581024 Average WER: 0.5802\n",
            "\n",
            "Train Epoch: 11 [0/100 (0%)]\tLoss: 1.828569\n",
            "\n",
            "evaluating...\n",
            "Test set: Average loss: 1.9198, Average CER: 0.532036 Average WER: 0.5608\n",
            "\n",
            "Train Epoch: 12 [0/100 (0%)]\tLoss: 1.851874\n",
            "\n",
            "evaluating...\n",
            "Test set: Average loss: 1.9606, Average CER: 0.534417 Average WER: 0.5770\n",
            "\n",
            "Train Epoch: 13 [0/100 (0%)]\tLoss: 1.780185\n",
            "\n",
            "evaluating...\n",
            "Test set: Average loss: 1.8325, Average CER: 0.604892 Average WER: 0.6097\n",
            "\n",
            "Train Epoch: 14 [0/100 (0%)]\tLoss: 1.738652\n",
            "\n",
            "evaluating...\n",
            "Test set: Average loss: 1.8131, Average CER: 0.497087 Average WER: 0.5488\n",
            "\n",
            "Train Epoch: 15 [0/100 (0%)]\tLoss: 1.711144\n",
            "\n",
            "evaluating...\n",
            "Test set: Average loss: 1.6917, Average CER: 0.438261 Average WER: 0.5082\n",
            "\n",
            "Train Epoch: 16 [0/100 (0%)]\tLoss: 1.670239\n",
            "\n",
            "evaluating...\n",
            "Test set: Average loss: 1.6964, Average CER: 0.438804 Average WER: 0.5315\n",
            "\n",
            "Train Epoch: 17 [0/100 (0%)]\tLoss: 1.656684\n",
            "\n",
            "evaluating...\n",
            "Test set: Average loss: 1.5972, Average CER: 0.396568 Average WER: 0.4561\n",
            "\n",
            "Train Epoch: 18 [0/100 (0%)]\tLoss: 1.546973\n",
            "\n",
            "evaluating...\n",
            "Test set: Average loss: 1.5495, Average CER: 0.446056 Average WER: 0.4614\n",
            "\n",
            "Train Epoch: 19 [0/100 (0%)]\tLoss: 1.518089\n",
            "\n",
            "evaluating...\n",
            "Test set: Average loss: 1.4948, Average CER: 0.410661 Average WER: 0.4586\n",
            "\n",
            "Train Epoch: 20 [0/100 (0%)]\tLoss: 1.440577\n",
            "\n",
            "evaluating...\n",
            "Test set: Average loss: 1.4798, Average CER: 0.414886 Average WER: 0.4593\n",
            "\n"
          ]
        }
      ]
    },
    {
      "cell_type": "code",
      "metadata": {
        "gather": {
          "logged": 1637414615753
        },
        "jupyter": {
          "outputs_hidden": false,
          "source_hidden": false
        },
        "nteract": {
          "transient": {
            "deleting": false
          }
        },
        "id": "8T5BWLcKRkIR",
        "outputId": "e9729d59-af42-43ed-f133-dccae69e6ac2"
      },
      "source": [
        "import matplotlib.pyplot as plt\n",
        "import numpy as np\n",
        "epochs=[i for i in range(1,21)]\n",
        "y = losses\n",
        "x = epochs\n",
        "plt.xlabel(\"Epochs\") \n",
        "plt.ylabel(\"Loss\") \n",
        "plt.title(\"Loss Vs Epoch\") \n",
        "plt.plot(x, y) \n",
        "plt.xticks(x)\n",
        "plt.show()"
      ],
      "execution_count": null,
      "outputs": [
        {
          "data": {
            "image/png": "[encoded data removed]",
            "text/plain": [
              "<Figure size 432x288 with 1 Axes>"
            ]
          },
          "metadata": {
            "needs_background": "light"
          },
          "output_type": "display_data"
        }
      ]
    },
    {
      "cell_type": "code",
      "metadata": {
        "gather": {
          "logged": 1637414620437
        },
        "jupyter": {
          "outputs_hidden": false,
          "source_hidden": false
        },
        "nteract": {
          "transient": {
            "deleting": false
          }
        },
        "id": "kvE2S15PRkIS",
        "outputId": "882ee259-972c-4160-f058-7cdd4c3cb4c0"
      },
      "source": [
        "import matplotlib.pyplot as plt\n",
        "import numpy as np\n",
        "epochs=[i for i in range(1,21)]\n",
        "y1 = word_error_rates\n",
        "y2= character_error_rates\n",
        "x = epochs\n",
        "plt.xlabel(\"Epochs\") \n",
        "plt.ylabel(\"Error Rate\") \n",
        "plt.title(\"Error Rates Vs Epoch\") \n",
        "plt.plot(x, y1,label='WER')\n",
        "plt.plot(x,y2,label='CER') \n",
        "plt.ylim(0.1,1.0)\n",
        "plt.xticks(x)\n",
        "plt.legend()\n",
        "plt.show()"
      ],
      "execution_count": null,
      "outputs": [
        {
          "data": {
            "image/png": "[encoded data removed]",
            "text/plain": [
              "<Figure size 432x288 with 1 Axes>"
            ]
          },
          "metadata": {
            "needs_background": "light"
          },
          "output_type": "display_data"
        }
      ]
    },
    {
      "cell_type": "code",
      "metadata": {
        "colab": {
          "base_uri": "https://localhost:8080/"
        },
        "gather": {
          "logged": 1637414632932
        },
        "id": "PX1-zLBXBI3H",
        "outputId": "cc7eca70-0b48-4e60-ce3f-13b463a57e97"
      },
      "source": [
        "params=loaded_model.state_dict()\n",
        "print(params.keys())"
      ],
      "execution_count": null,
      "outputs": [
        {
          "name": "stdout",
          "output_type": "stream",
          "text": [
            "odict_keys(['cnn.weight', 'cnn.bias', 'rescnn_layers.0.cnn1.weight', 'rescnn_layers.0.cnn1.bias', 'rescnn_layers.0.cnn2.weight', 'rescnn_layers.0.cnn2.bias', 'rescnn_layers.0.layer_norm1.layer_norm.weight', 'rescnn_layers.0.layer_norm1.layer_norm.bias', 'rescnn_layers.0.layer_norm2.layer_norm.weight', 'rescnn_layers.0.layer_norm2.layer_norm.bias', 'rescnn_layers.1.cnn1.weight', 'rescnn_layers.1.cnn1.bias', 'rescnn_layers.1.cnn2.weight', 'rescnn_layers.1.cnn2.bias', 'rescnn_layers.1.layer_norm1.layer_norm.weight', 'rescnn_layers.1.layer_norm1.layer_norm.bias', 'rescnn_layers.1.layer_norm2.layer_norm.weight', 'rescnn_layers.1.layer_norm2.layer_norm.bias', 'rescnn_layers.2.cnn1.weight', 'rescnn_layers.2.cnn1.bias', 'rescnn_layers.2.cnn2.weight', 'rescnn_layers.2.cnn2.bias', 'rescnn_layers.2.layer_norm1.layer_norm.weight', 'rescnn_layers.2.layer_norm1.layer_norm.bias', 'rescnn_layers.2.layer_norm2.layer_norm.weight', 'rescnn_layers.2.layer_norm2.layer_norm.bias', 'fully_connected.weight', 'fully_connected.bias', 'birnn_layers.0.BiGRU.weight_ih_l0', 'birnn_layers.0.BiGRU.weight_hh_l0', 'birnn_layers.0.BiGRU.bias_ih_l0', 'birnn_layers.0.BiGRU.bias_hh_l0', 'birnn_layers.0.BiGRU.weight_ih_l0_reverse', 'birnn_layers.0.BiGRU.weight_hh_l0_reverse', 'birnn_layers.0.BiGRU.bias_ih_l0_reverse', 'birnn_layers.0.BiGRU.bias_hh_l0_reverse', 'birnn_layers.0.layer_norm.weight', 'birnn_layers.0.layer_norm.bias', 'birnn_layers.1.BiGRU.weight_ih_l0', 'birnn_layers.1.BiGRU.weight_hh_l0', 'birnn_layers.1.BiGRU.bias_ih_l0', 'birnn_layers.1.BiGRU.bias_hh_l0', 'birnn_layers.1.BiGRU.weight_ih_l0_reverse', 'birnn_layers.1.BiGRU.weight_hh_l0_reverse', 'birnn_layers.1.BiGRU.bias_ih_l0_reverse', 'birnn_layers.1.BiGRU.bias_hh_l0_reverse', 'birnn_layers.1.layer_norm.weight', 'birnn_layers.1.layer_norm.bias', 'birnn_layers.2.BiGRU.weight_ih_l0', 'birnn_layers.2.BiGRU.weight_hh_l0', 'birnn_layers.2.BiGRU.bias_ih_l0', 'birnn_layers.2.BiGRU.bias_hh_l0', 'birnn_layers.2.BiGRU.weight_ih_l0_reverse', 'birnn_layers.2.BiGRU.weight_hh_l0_reverse', 'birnn_layers.2.BiGRU.bias_ih_l0_reverse', 'birnn_layers.2.BiGRU.bias_hh_l0_reverse', 'birnn_layers.2.layer_norm.weight', 'birnn_layers.2.layer_norm.bias', 'birnn_layers.3.BiGRU.weight_ih_l0', 'birnn_layers.3.BiGRU.weight_hh_l0', 'birnn_layers.3.BiGRU.bias_ih_l0', 'birnn_layers.3.BiGRU.bias_hh_l0', 'birnn_layers.3.BiGRU.weight_ih_l0_reverse', 'birnn_layers.3.BiGRU.weight_hh_l0_reverse', 'birnn_layers.3.BiGRU.bias_ih_l0_reverse', 'birnn_layers.3.BiGRU.bias_hh_l0_reverse', 'birnn_layers.3.layer_norm.weight', 'birnn_layers.3.layer_norm.bias', 'birnn_layers.4.BiGRU.weight_ih_l0', 'birnn_layers.4.BiGRU.weight_hh_l0', 'birnn_layers.4.BiGRU.bias_ih_l0', 'birnn_layers.4.BiGRU.bias_hh_l0', 'birnn_layers.4.BiGRU.weight_ih_l0_reverse', 'birnn_layers.4.BiGRU.weight_hh_l0_reverse', 'birnn_layers.4.BiGRU.bias_ih_l0_reverse', 'birnn_layers.4.BiGRU.bias_hh_l0_reverse', 'birnn_layers.4.layer_norm.weight', 'birnn_layers.4.layer_norm.bias', 'classifier.0.weight', 'classifier.0.bias', 'classifier.3.weight', 'classifier.3.bias'])\n"
          ]
        }
      ]
    },
    {
      "cell_type": "code",
      "metadata": {
        "colab": {
          "base_uri": "https://localhost:8080/"
        },
        "gather": {
          "logged": 1637415485253
        },
        "id": "oDR-tXqi2j0N",
        "outputId": "b25952fd-175a-4a0e-83ff-d6e92aa20ee3"
      },
      "source": [
        "losses=[]\n",
        "character_error_rates=[]\n",
        "word_error_rates=[]\n",
        "def transfer_learning(pre_trained_model):\n",
        "  learning_rate = 5e-4\n",
        "  batch_size = 5\n",
        "  epochs = 20\n",
        "  params=loaded_model.state_dict()\n",
        "  loaded_model.cnn.weight.requires_grad=False\n",
        "  loaded_model.rescnn_layers[0].cnn1.weight.requires_grad=False\n",
        "  loaded_model.rescnn_layers[0].cnn2.weight.requires_grad=False\n",
        "  loaded_model.rescnn_layers[0].layer_norm1.layer_norm.weight.requires_grad=False\n",
        "  loaded_model.rescnn_layers[0].layer_norm2.layer_norm.weight.requires_grad=False\n",
        "  loaded_model.rescnn_layers[1].cnn1.weight.requires_grad=False\n",
        "  loaded_model.rescnn_layers[1].cnn2.weight.requires_grad=False\n",
        "  hparams = {\"n_cnn_layers\": 3,\"n_rnn_layers\": 5,\"rnn_dim\": 512,\"n_class\": 29,\"n_feats\": 128,\"stride\":2,\"dropout\": 0.1,\"learning_rate\": learning_rate,\"batch_size\": batch_size,\"epochs\": epochs}\n",
        "  opti = optim.AdamW(pre_trained_model.parameters(), hparams['learning_rate'])\n",
        "  crit = nn.CTCLoss(blank=28).to(device)\n",
        "  sche = optim.lr_scheduler.OneCycleLR(opti, max_lr=hparams['learning_rate'], steps_per_epoch=int(len(trainDataLoderSlurred)),epochs=hparams['epochs'],anneal_strategy='linear')\n",
        "  iter = IterMeter()\n",
        "\n",
        "  for epoch in range(1, epochs+1):\n",
        "    train_transfer_learning(pre_trained_model, device, trainDataLoderSlurred, crit, opti, sche, epoch, iter)\n",
        "    test_transfer_learning(pre_trained_model, device, testDataLoaderSlurred, crit, epoch, iter,losses,character_error_rates,word_error_rates)\n",
        "\n",
        "transfer_learning(loaded_model)\n",
        "\n"
      ],
      "execution_count": null,
      "outputs": [
        {
          "name": "stdout",
          "output_type": "stream",
          "text": [
            "Train Epoch: 1 [0/100 (0%)]\tLoss: 1.424136\n",
            "\n",
            "evaluating...\n",
            "Test set: Average loss: 1.4411, Average CER: 0.394907 Average WER: 0.4326\n",
            "\n",
            "Train Epoch: 2 [0/100 (0%)]\tLoss: 1.366359\n",
            "\n",
            "evaluating...\n",
            "Test set: Average loss: 1.4184, Average CER: 0.358094 Average WER: 0.4217\n",
            "\n",
            "Train Epoch: 3 [0/100 (0%)]\tLoss: 1.406408\n",
            "\n",
            "evaluating...\n",
            "Test set: Average loss: 1.3596, Average CER: 0.389462 Average WER: 0.4542\n",
            "\n",
            "Train Epoch: 4 [0/100 (0%)]\tLoss: 1.412644\n",
            "\n",
            "evaluating...\n",
            "Test set: Average loss: 1.3685, Average CER: 0.407491 Average WER: 0.4192\n",
            "\n",
            "Train Epoch: 5 [0/100 (0%)]\tLoss: 1.402968\n",
            "\n",
            "evaluating...\n",
            "Test set: Average loss: 1.3539, Average CER: 0.360782 Average WER: 0.4264\n",
            "\n",
            "Train Epoch: 6 [0/100 (0%)]\tLoss: 1.353409\n",
            "\n",
            "evaluating...\n",
            "Test set: Average loss: 1.3845, Average CER: 0.437750 Average WER: 0.4627\n",
            "\n",
            "Train Epoch: 7 [0/100 (0%)]\tLoss: 1.500423\n",
            "\n",
            "evaluating...\n",
            "Test set: Average loss: 1.5807, Average CER: 0.387585 Average WER: 0.4725\n",
            "\n",
            "Train Epoch: 8 [0/100 (0%)]\tLoss: 1.586544\n",
            "\n",
            "evaluating...\n",
            "Test set: Average loss: 1.7726, Average CER: 0.436746 Average WER: 0.4922\n",
            "\n",
            "Train Epoch: 9 [0/100 (0%)]\tLoss: 1.665008\n",
            "\n",
            "evaluating...\n",
            "Test set: Average loss: 1.4822, Average CER: 0.422963 Average WER: 0.4722\n",
            "\n",
            "Train Epoch: 10 [0/100 (0%)]\tLoss: 1.493081\n",
            "\n",
            "evaluating...\n",
            "Test set: Average loss: 1.2704, Average CER: 0.389098 Average WER: 0.4256\n",
            "\n",
            "Train Epoch: 11 [0/100 (0%)]\tLoss: 1.275942\n",
            "\n",
            "evaluating...\n",
            "Test set: Average loss: 1.2406, Average CER: 0.348054 Average WER: 0.4010\n",
            "\n",
            "Train Epoch: 12 [0/100 (0%)]\tLoss: 1.298663\n",
            "\n",
            "evaluating...\n",
            "Test set: Average loss: 1.1706, Average CER: 0.318436 Average WER: 0.3539\n",
            "\n",
            "Train Epoch: 13 [0/100 (0%)]\tLoss: 1.231875\n",
            "\n",
            "evaluating...\n",
            "Test set: Average loss: 1.0852, Average CER: 0.310146 Average WER: 0.3735\n",
            "\n",
            "Train Epoch: 14 [0/100 (0%)]\tLoss: 1.158532\n",
            "\n",
            "evaluating...\n",
            "Test set: Average loss: 1.0230, Average CER: 0.292649 Average WER: 0.3649\n",
            "\n",
            "Train Epoch: 15 [0/100 (0%)]\tLoss: 1.047762\n",
            "\n",
            "evaluating...\n",
            "Test set: Average loss: 0.9802, Average CER: 0.266954 Average WER: 0.3406\n",
            "\n",
            "Train Epoch: 16 [0/100 (0%)]\tLoss: 1.081456\n",
            "\n",
            "evaluating...\n",
            "Test set: Average loss: 0.9100, Average CER: 0.247804 Average WER: 0.2920\n",
            "\n",
            "Train Epoch: 17 [0/100 (0%)]\tLoss: 0.971451\n",
            "\n",
            "evaluating...\n",
            "Test set: Average loss: 0.8555, Average CER: 0.242909 Average WER: 0.2787\n",
            "\n",
            "Train Epoch: 18 [0/100 (0%)]\tLoss: 0.884377\n",
            "\n",
            "evaluating...\n",
            "Test set: Average loss: 0.7996, Average CER: 0.239763 Average WER: 0.2789\n",
            "\n",
            "Train Epoch: 19 [0/100 (0%)]\tLoss: 0.893999\n",
            "\n",
            "evaluating...\n",
            "Test set: Average loss: 0.7776, Average CER: 0.218411 Average WER: 0.2527\n",
            "\n",
            "Train Epoch: 20 [0/100 (0%)]\tLoss: 0.799737\n",
            "\n",
            "evaluating...\n",
            "Test set: Average loss: 0.7663, Average CER: 0.220066 Average WER: 0.2550\n",
            "\n"
          ]
        }
      ]
    },
    {
      "cell_type": "code",
      "metadata": {
        "colab": {
          "base_uri": "https://localhost:8080/",
          "height": 294
        },
        "gather": {
          "logged": 1637415549243
        },
        "id": "8bTqmSurwWol",
        "outputId": "7ff397b3-768f-4dad-9fb6-194599b57932"
      },
      "source": [
        "import matplotlib.pyplot as plt\n",
        "import numpy as np\n",
        "epochs=[i for i in range(1,21)]\n",
        "y = losses\n",
        "x = epochs\n",
        "plt.xlabel(\"Epochs\") \n",
        "plt.ylabel(\"Loss\") \n",
        "plt.title(\"Loss Vs Epoch\") \n",
        "plt.plot(x, y) \n",
        "plt.xticks(x)\n",
        "plt.show()"
      ],
      "execution_count": null,
      "outputs": [
        {
          "data": {
            "image/png": "[encoded data removed]",
            "text/plain": [
              "<Figure size 432x288 with 1 Axes>"
            ]
          },
          "metadata": {
            "needs_background": "light"
          },
          "output_type": "display_data"
        }
      ]
    },
    {
      "cell_type": "code",
      "metadata": {
        "colab": {
          "base_uri": "https://localhost:8080/",
          "height": 294
        },
        "gather": {
          "logged": 1637415555574
        },
        "id": "nI-2BlNQfdKI",
        "outputId": "602d8b56-9425-4a2d-8053-76472ea58ceb"
      },
      "source": [
        "import matplotlib.pyplot as plt\n",
        "import numpy as np\n",
        "epochs=[i for i in range(1,21)]\n",
        "y1 = word_error_rates\n",
        "y2=character_error_rates\n",
        "x = epochs\n",
        "plt.xlabel(\"Epochs\") \n",
        "plt.ylabel(\"Error Rate\") \n",
        "plt.title(\"Error Rates Vs Epoch\") \n",
        "plt.plot(x, y1,label='WER')\n",
        "plt.plot(x,y2,label='CER') \n",
        "plt.ylim(0.1,0.65)\n",
        "plt.xticks(x)\n",
        "plt.legend()\n",
        "plt.show()"
      ],
      "execution_count": null,
      "outputs": [
        {
          "data": {
            "image/png": "[encoded data removed]",
            "text/plain": [
              "<Figure size 432x288 with 1 Axes>"
            ]
          },
          "metadata": {
            "needs_background": "light"
          },
          "output_type": "display_data"
        }
      ]
    },
    {
      "cell_type": "markdown",
      "metadata": {
        "nteract": {
          "transient": {
            "deleting": false
          }
        },
        "id": "r1dFi8clRkIZ"
      },
      "source": [
        "# Generating Transcript of single audio file with model trained using transfer learning"
      ]
    },
    {
      "cell_type": "code",
      "metadata": {
        "gather": {
          "logged": 1637270487559
        },
        "jupyter": {
          "outputs_hidden": false,
          "source_hidden": false
        },
        "nteract": {
          "transient": {
            "deleting": false
          }
        },
        "id": "OjUx_85iRkIZ"
      },
      "source": [
        "orignal_model = torch.load('/mnt/batch/tasks/shared/LS_root/mounts/clusters/shivam1234/code/Users/kshivamranjan.cse18/Best-Fit-TrainedModel/best_fit_model_final.h5')\n",
        "transfer_learning_model=torch.load('/mnt/batch/tasks/shared/LS_root/mounts/clusters/shivam1234/code/Users/kshivamranjan.cse18/best_fit_model_transfer_learning20.h5')"
      ],
      "execution_count": null,
      "outputs": []
    },
    {
      "cell_type": "code",
      "metadata": {
        "gather": {
          "logged": 1637415804463
        },
        "jupyter": {
          "outputs_hidden": false,
          "source_hidden": false
        },
        "nteract": {
          "transient": {
            "deleting": false
          }
        },
        "id": "s52sgPAyRkIa",
        "outputId": "f7c837de-4456-490f-d797-f253dfd3ca8e"
      },
      "source": [
        "test(loaded_model, device, testDataLoaderSlurred, criterion, 1, iter_meter)"
      ],
      "execution_count": null,
      "outputs": [
        {
          "name": "stdout",
          "output_type": "stream",
          "text": [
            "\n",
            "evaluating...\n",
            "Test set: Average loss: 0.7663, Average CER: 0.220066 Average WER: 0.2550\n",
            "\n"
          ]
        }
      ]
    },
    {
      "cell_type": "code",
      "metadata": {
        "gather": {
          "logged": 1637417074643
        },
        "id": "VK8p0AzafdTB"
      },
      "source": [
        "class custom_TestDataset_class(Dataset): \n",
        "    _ext_txt = \".trans.txt\"\n",
        "    _ext_audio = \".flac\"\n",
        "    def __init__(self):\n",
        "        self._path=\"/mnt/batch/tasks/shared/LS_root/mounts/clusters/shivam1234/code/Users/kshivamranjan.cse18/SlurredSpeech-Dataset-Train\"\n",
        "        self._walker=['1-2-0032'] # list of audio file names\n",
        "    def __getitem__(self, n):\n",
        "        fileid = self._walker[n]\n",
        "        return load_librispeech_item(fileid, self._path, self._ext_audio, self._ext_txt)\n",
        "\n",
        "    def __len__(self):\n",
        "        return len(self._walker)   \n",
        "    \n",
        "\n",
        "\n",
        "\n",
        "single_audio_dataloader=custom_TestDataset_class()\n",
        "test_loader_transfer_learning = data.DataLoader(dataset=single_audio_dataloader,batch_size=hparams['batch_size'],shuffle=False,collate_fn=lambda x: data_processing(x, 'valid'),**kwargs)\n",
        "\n",
        "\n"
      ],
      "execution_count": null,
      "outputs": []
    },
    {
      "cell_type": "code",
      "metadata": {
        "gather": {
          "logged": 1637417077563
        },
        "jupyter": {
          "outputs_hidden": false,
          "source_hidden": false
        },
        "nteract": {
          "transient": {
            "deleting": false
          }
        },
        "id": "Hsl_j9tCRkIb"
      },
      "source": [
        "def single_audio_test(model, device, test_loader, iter_meter):\n",
        "    model.eval()\n",
        "    with torch.no_grad():\n",
        "        for i, _data in enumerate(test_loader):\n",
        "            spectrograms, labels, input_lengths, label_lengths = _data \n",
        "            spectrograms, labels = spectrograms.to(device), labels.to(device)\n",
        "            output = model(spectrograms)  \n",
        "            output = F.log_softmax(output, dim=2)\n",
        "            output = output.transpose(0, 1)\n",
        "            decoded_preds, decoded_targets = GreedyDecoder(output.transpose(0, 1), labels, label_lengths)\n",
        "            return decoded_targets\n",
        "\n",
        "text=single_audio_test(loaded_model, device, test_loader_transfer_learning, iter)\n",
        "\n",
        "\n"
      ],
      "execution_count": null,
      "outputs": []
    },
    {
      "cell_type": "code",
      "metadata": {
        "gather": {
          "logged": 1637271128948
        },
        "jupyter": {
          "outputs_hidden": false,
          "source_hidden": false
        },
        "nteract": {
          "transient": {
            "deleting": false
          }
        },
        "id": "E6TuexzqRkIc",
        "outputId": "58eefc59-f689-4857-d835-8fb01266fed2"
      },
      "source": [
        "pip install gTTS"
      ],
      "execution_count": null,
      "outputs": [
        {
          "name": "stdout",
          "output_type": "stream",
          "text": [
            "Requirement already satisfied: gTTS in /anaconda/envs/azureml_py36/lib/python3.6/site-packages (2.2.3)\n",
            "Requirement already satisfied: click in /anaconda/envs/azureml_py36/lib/python3.6/site-packages (from gTTS) (7.1.2)\n",
            "Requirement already satisfied: requests in /anaconda/envs/azureml_py36/lib/python3.6/site-packages (from gTTS) (2.25.1)\n",
            "Requirement already satisfied: six in /anaconda/envs/azureml_py36/lib/python3.6/site-packages (from gTTS) (1.15.0)\n",
            "Requirement already satisfied: urllib3<1.27,>=1.21.1 in /anaconda/envs/azureml_py36/lib/python3.6/site-packages (from requests->gTTS) (1.25.11)\n",
            "Requirement already satisfied: chardet<5,>=3.0.2 in /anaconda/envs/azureml_py36/lib/python3.6/site-packages (from requests->gTTS) (4.0.0)\n",
            "Requirement already satisfied: certifi>=2017.4.17 in /anaconda/envs/azureml_py36/lib/python3.6/site-packages (from requests->gTTS) (2020.12.5)\n",
            "Requirement already satisfied: idna<3,>=2.5 in /anaconda/envs/azureml_py36/lib/python3.6/site-packages (from requests->gTTS) (2.10)\n",
            "Note: you may need to restart the kernel to use updated packages.\n"
          ]
        }
      ]
    },
    {
      "cell_type": "markdown",
      "metadata": {
        "nteract": {
          "transient": {
            "deleting": false
          }
        },
        "id": "G732qgUURkIc"
      },
      "source": [
        "# Converting Predicted Transcript into Clean Speech"
      ]
    },
    {
      "cell_type": "code",
      "metadata": {
        "gather": {
          "logged": 1637416553135
        },
        "jupyter": {
          "outputs_hidden": false,
          "source_hidden": false
        },
        "nteract": {
          "transient": {
            "deleting": false
          }
        },
        "id": "_01r7WmjRkId"
      },
      "source": [
        "from gtts import gTTS\n",
        "t=text[0].split(\"  \")\n",
        "ans=\"\"\n",
        "for i in t:\n",
        "    i=list(i)\n",
        "    word=\"\"\n",
        "    str=\"abcdefghijklmnopqrstuvwxyz\"\n",
        "    for k in i:\n",
        "        if k in str:\n",
        "            word+=k\n",
        "    ans+=word+\" \"\n",
        "\n",
        "tts = gTTS(ans)\n",
        "tts.save(\"transcript.mp3\")\n",
        "\n"
      ],
      "execution_count": null,
      "outputs": []
    }
  ]
}